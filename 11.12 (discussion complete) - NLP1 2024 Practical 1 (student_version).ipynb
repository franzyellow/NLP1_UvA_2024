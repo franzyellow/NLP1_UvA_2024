{
 "cells": [
  {
   "cell_type": "markdown",
   "metadata": {
    "id": "1-aRiOgl4nHg"
   },
   "source": [
    "------\n",
    "**You cannot save any changes you make to this file, so please make sure to save it on your Google Colab drive or download it as a .ipynb file.**\n",
    "\n",
    "------\n",
    "\n"
   ]
  },
  {
   "cell_type": "markdown",
   "metadata": {
    "id": "lIZrAUx57vsM"
   },
   "source": [
    "Practical 1: Sentiment Detection in Movie Reviews\n",
    "========================================\n",
    "\n"
   ]
  },
  {
   "cell_type": "markdown",
   "metadata": {
    "id": "J4kXPMhyngZW"
   },
   "source": [
    "This practical concerns detecting sentiment in movie reviews. This is a typical NLP classification task.\n",
    "In [this file](https://gist.githubusercontent.com/bastings/d47423301cca214e3930061a5a75e177/raw/5113687382919e22b1f09ce71a8fecd1687a5760/reviews.json) (80MB) you will find 1000 positive and 1000 negative **movie reviews**.\n",
    "Each review is a **document** and consists of one or more sentences.\n",
    "\n",
    "To prepare yourself for this practical, you should\n",
    "have a look at a few of these texts to understand the difficulties of\n",
    "the task: how might one go about classifying the texts? You will write\n",
    "code that decides whether a movie review conveys positive or\n",
    "negative sentiment.\n",
    "\n",
    "Please make sure you have read the following paper:\n",
    "\n",
    ">   Bo Pang, Lillian Lee, and Shivakumar Vaithyanathan\n",
    "(2002).\n",
    "[Thumbs up? Sentiment Classification using Machine Learning\n",
    "Techniques](https://dl.acm.org/citation.cfm?id=1118704). EMNLP.\n",
    "\n",
    "Bo Pang et al. introduced the movie review sentiment\n",
    "classification task, and the above paper was one of the first papers on\n",
    "the topic. The first version of your sentiment classifier will do\n",
    "something similar to Pang et al.'s system. If you have questions about it,\n",
    "you should resolve you doubts as soon as possible with your TA.\n"
   ]
  },
  {
   "cell_type": "markdown",
   "metadata": {
    "id": "cb7errgRASzZ"
   },
   "source": [
    "**Advice**\n",
    "\n",
    "Please read through the entire practical and familiarise\n",
    "yourself with all requirements before you start coding or otherwise\n",
    "solving the tasks. Writing clean and concise code can make the difference\n",
    "between solving the assignment in a matter of hours, and taking days to\n",
    "run all experiments.\n",
    "\n",
    "\n",
    "**Implementation**\n",
    "\n",
    "While we inserted code cells to indicate where you should implement your own code, please feel free to add/remove code blocks where you see fit (but make sure that the general structure of the assignment is preserved). Also, please keep in mind that it is always good practice to structure your code properly, e.g., by implementing separate classes and functions that can be reused. **Make sure you run all your code before submitting the notebook, and do not leave unnecessary print statements / cells in your notebook that are not intended for the grader.**\n",
    "\n",
    "## Environment\n",
    "\n",
    "All code should be written in **Python 3**.\n",
    "This is the default in Google Colab."
   ]
  },
  {
   "cell_type": "code",
   "execution_count": 15,
   "metadata": {
    "colab": {
     "base_uri": "https://localhost:8080/"
    },
    "executionInfo": {
     "elapsed": 21,
     "status": "ok",
     "timestamp": 1698047665308,
     "user": {
      "displayName": "XUE LI",
      "userId": "02386889076941396043"
     },
     "user_tz": -120
    },
    "id": "SaZnxptMJiD7",
    "outputId": "18c3a760-90b6-4d90-e507-aba57841ae23"
   },
   "outputs": [
    {
     "name": "stdout",
     "output_type": "stream",
     "text": [
      "Python 3.11.5\n"
     ]
    }
   ],
   "source": [
    "!python --version"
   ]
  },
  {
   "cell_type": "markdown",
   "metadata": {
    "id": "BYZyIF7lJnGn"
   },
   "source": [
    "If you want to run code on your own computer, then download this notebook through `File -> Download .ipynb`.\n",
    "The easiest way to\n",
    "install Python is through downloading\n",
    "[Anaconda](https://www.anaconda.com/download).\n",
    "After installation, you can start the notebook by typing `jupyter notebook filename.ipynb`.\n",
    "You can also use an IDE\n",
    "such as [PyCharm](https://www.jetbrains.com/pycharm/download/) to make\n",
    "coding and debugging easier. It is good practice to create a [virtual\n",
    "environment](https://docs.python.org/3/tutorial/venv.html) for this\n",
    "project, so that any Python packages don’t interfere with other\n",
    "projects.\n",
    "\n",
    "\n",
    "**Learning Python 3**\n",
    "\n",
    "If you are new to Python 3, you may want to check out a few of these resources:\n",
    "- https://learnxinyminutes.com/docs/python3/\n",
    "- https://www.learnpython.org/\n",
    "- https://docs.python.org/3/tutorial/"
   ]
  },
  {
   "cell_type": "code",
   "execution_count": 17,
   "metadata": {
    "id": "hok-BFu9lGoK"
   },
   "outputs": [],
   "source": [
    "import math\n",
    "import os\n",
    "import sys\n",
    "from subprocess import call\n",
    "from nltk import FreqDist\n",
    "from nltk.util import ngrams\n",
    "from nltk.stem.porter import PorterStemmer\n",
    "import sklearn as sk\n",
    "#from google.colab import drive\n",
    "import pickle\n",
    "import json\n",
    "from collections import Counter\n",
    "import requests\n",
    "import matplotlib.pyplot as plt\n",
    "import numpy as np"
   ]
  },
  {
   "cell_type": "code",
   "execution_count": 18,
   "metadata": {},
   "outputs": [],
   "source": [
    "import re\n",
    "from collections import defaultdict\n",
    "from tqdm import tqdm\n",
    "import pandas as pd\n",
    "import seaborn as sns"
   ]
  },
  {
   "cell_type": "markdown",
   "metadata": {
    "id": "bXWyGHwE-ieQ"
   },
   "source": [
    "## Loading the data\n",
    "\n",
    "**Download the sentiment lexicon and the movie reviews dataset.**"
   ]
  },
  {
   "cell_type": "code",
   "execution_count": 20,
   "metadata": {},
   "outputs": [],
   "source": [
    "# Downloading sent_lexicon (Windows)\n",
    "!curl -s -o sent_lexicon https://gist.githubusercontent.com/bastings/d6f99dcb6c82231b94b013031356ba05/raw/f80a0281eba8621b122012c89c8b5e2200b39fd6/sent_lexicon\n",
    "\n",
    "# Downloading reviews.json (Windows)\n",
    "!curl -s -o reviews.json https://gist.githubusercontent.com/bastings/d47423301cca214e3930061a5a75e177/raw/5113687382919e22b1f09ce71a8fecd1687a5760/reviews.json"
   ]
  },
  {
   "cell_type": "code",
   "execution_count": 21,
   "metadata": {
    "colab": {
     "base_uri": "https://localhost:8080/"
    },
    "executionInfo": {
     "elapsed": 1808,
     "status": "ok",
     "timestamp": 1698047686292,
     "user": {
      "displayName": "XUE LI",
      "userId": "02386889076941396043"
     },
     "user_tz": -120
    },
    "id": "lm-rakqtlMOT",
    "outputId": "1b6b1152-50b7-4161-aab2-03da318d6981"
   },
   "outputs": [],
   "source": [
    "# download sentiment lexicon\n",
    "#!wget https://gist.githubusercontent.com/bastings/d6f99dcb6c82231b94b013031356ba05/raw/f80a0281eba8621b122012c89c8b5e2200b39fd6/sent_lexicon\n",
    "# download review data\n",
    "#!wget https://gist.githubusercontent.com/bastings/d47423301cca214e3930061a5a75e177/raw/5113687382919e22b1f09ce71a8fecd1687a5760/reviews.json"
   ]
  },
  {
   "cell_type": "markdown",
   "metadata": {
    "id": "AkPwuHp5LSuQ"
   },
   "source": [
    "**Load the movie reviews.**\n",
    "\n",
    "Each word in a review comes with its part-of-speech tag. For documentation on POS-tags, see https://catalog.ldc.upenn.edu/docs/LDC99T42/tagguid1.pdf.\n"
   ]
  },
  {
   "cell_type": "code",
   "execution_count": 23,
   "metadata": {
    "colab": {
     "base_uri": "https://localhost:8080/"
    },
    "executionInfo": {
     "elapsed": 3917,
     "status": "ok",
     "timestamp": 1698047715771,
     "user": {
      "displayName": "XUE LI",
      "userId": "02386889076941396043"
     },
     "user_tz": -120
    },
    "id": "careEKj-mRpl",
    "outputId": "a6f3c385-5106-49ec-be89-4aff971eb05b"
   },
   "outputs": [
    {
     "name": "stdout",
     "output_type": "stream",
     "text": [
      "Total number of reviews: 2000 \n",
      "\n",
      "0 NEG 29\n",
      "Two/CD teen/JJ couples/NNS go/VBP to/TO a/DT church/NN party/NN ,/, drink/NN and/CC then/RB drive/NN ./.\n",
      "1 NEG 11\n",
      "Damn/JJ that/IN Y2K/CD bug/NN ./.\n",
      "2 NEG 24\n",
      "It/PRP is/VBZ movies/NNS like/IN these/DT that/WDT make/VBP a/DT jaded/JJ movie/NN viewer/NN thankful/JJ for/IN the/DT invention/NN of/IN the/DT Timex/NNP IndiGlo/NNP watch/NN ./.\n",
      "3 NEG 19\n",
      "QUEST/NN FOR/IN CAMELOT/NNP ``/`` Quest/NNP for/IN Camelot/NNP ''/'' is/VBZ Warner/NNP Bros./NNP '/POS first/JJ feature-length/JJ ,/, fully-animated/JJ attempt/NN to/TO steal/VB clout/NN from/IN Disney/NNP 's/POS cartoon/NN empire/NN ,/, but/CC the/DT mouse/NN has/VBZ no/DT reason/NN to/TO be/VB worried/VBN ./.\n",
      "4 NEG 38\n",
      "Synopsis/NNPS :/: A/DT mentally/RB unstable/JJ man/NN undergoing/VBG psychotherapy/NN saves/VBZ a/DT boy/NN from/IN a/DT potentially/RB fatal/JJ accident/NN and/CC then/RB falls/VBZ in/IN love/NN with/IN the/DT boy/NN 's/POS mother/NN ,/, a/DT fledgling/NN restauranteur/NN ./.\n",
      "\n",
      "Number of word types: 47743\n",
      "Number of word tokens: 1512359\n",
      "\n",
      "Most common tokens:\n",
      "         , :    77842\n",
      "       the :    75948\n",
      "         . :    59027\n",
      "         a :    37583\n",
      "       and :    35235\n",
      "        of :    33864\n",
      "        to :    31601\n",
      "        is :    25972\n",
      "        in :    21563\n",
      "        's :    18043\n",
      "        it :    15904\n",
      "      that :    15820\n",
      "     -rrb- :    11768\n",
      "     -lrb- :    11670\n",
      "        as :    11312\n",
      "      with :    10739\n",
      "       for :     9816\n",
      "       his :     9542\n",
      "      this :     9497\n",
      "      film :     9404\n"
     ]
    }
   ],
   "source": [
    "# file structure:\n",
    "# [\n",
    "#  {\"cv\": integer, \"sentiment\": str, \"content\": list}\n",
    "#  {\"cv\": integer, \"sentiment\": str, \"content\": list}\n",
    "#   ..\n",
    "# ]\n",
    "# where `content` is a list of sentences,\n",
    "# with a sentence being a list of (token, pos_tag) pairs.\n",
    "\n",
    "\n",
    "with open(\"reviews.json\", mode=\"r\", encoding=\"utf-8\") as f:\n",
    "  reviews = json.load(f)\n",
    "\n",
    "print(\"Total number of reviews:\", len(reviews), '\\n')\n",
    "\n",
    "def print_sentence_with_pos(s):\n",
    "  print(\" \".join(\"%s/%s\" % (token, pos_tag) for token, pos_tag in s))\n",
    "\n",
    "for i, r in enumerate(reviews):\n",
    "  print(r[\"cv\"], r[\"sentiment\"], len(r[\"content\"]))  # cv, sentiment, num sents\n",
    "  print_sentence_with_pos(r[\"content\"][0])\n",
    "  if i == 4:\n",
    "    break\n",
    "\n",
    "c = Counter()\n",
    "for review in reviews:\n",
    "  for sentence in review[\"content\"]:\n",
    "    for token, pos_tag in sentence:\n",
    "      c[token.lower()] += 1\n",
    "\n",
    "print(\"\\nNumber of word types:\", len(c))\n",
    "print(\"Number of word tokens:\", sum(c.values()))\n",
    "\n",
    "print(\"\\nMost common tokens:\")\n",
    "for token, count in c.most_common(20):\n",
    "  print(\"%10s : %8d\" % (token, count))"
   ]
  },
  {
   "cell_type": "markdown",
   "metadata": {
    "id": "E6PWaEoh8B34"
   },
   "source": [
    "### (1) Lexicon-based approach (3.5pts) ###"
   ]
  },
  {
   "cell_type": "markdown",
   "metadata": {
    "id": "JsTSMb6ma4E8"
   },
   "source": [
    "A traditional approach to classify documents according to their sentiment is the lexicon-based approach. To implement this approach, you need a **sentiment lexicon**, i.e., a list of words annotated with a sentiment label (e.g., positive and negative, or a score from 0 to 5).\n",
    "\n",
    "In this practical, you will use the sentiment\n",
    "lexicon released by Wilson et al. (2005).\n",
    "\n",
    "> Theresa Wilson, Janyce Wiebe, and Paul Hoffmann\n",
    "(2005). [Recognizing Contextual Polarity in Phrase-Level Sentiment\n",
    "Analysis](http://www.aclweb.org/anthology/H/H05/H05-1044.pdf). HLT-EMNLP.\n",
    "\n",
    "Pay attention to all the information available in the sentiment lexicon. The field *word1* contains the lemma, *priorpolarity* contains the sentiment label (positive, negative, both, or neutral), *type* gives you the magnitude of the word's sentiment (strong or weak), and *pos1* gives you the part-of-speech tag of the lemma. Some lemmas can have multiple part-of-speech tags and thus multiple entries in the lexicon. The path of the lexicon file is `\"sent_lexicon\"`.\n"
   ]
  },
  {
   "cell_type": "code",
   "execution_count": 26,
   "metadata": {
    "colab": {
     "base_uri": "https://localhost:8080/"
    },
    "executionInfo": {
     "elapsed": 220,
     "status": "ok",
     "timestamp": 1698047764860,
     "user": {
      "displayName": "XUE LI",
      "userId": "02386889076941396043"
     },
     "user_tz": -120
    },
    "id": "Ogq0Eq2hQglh",
    "outputId": "1c26526d-399e-4558-a1b2-2fa771648f09"
   },
   "outputs": [
    {
     "name": "stdout",
     "output_type": "stream",
     "text": [
      "type=weaksubj len=1 word1=abandoned pos1=adj stemmed1=n priorpolarity=negative\n",
      "\n",
      "type=weaksubj len=1 word1=abandoned pos1=adj stemmed1=n priorpolarity=negative\n",
      "\n",
      "type=weaksubj len=1 word1=abandonment pos1=noun stemmed1=n priorpolarity=negative\n",
      "\n",
      "type=weaksubj len=1 word1=abandonment pos1=noun stemmed1=n priorpolarity=negative\n",
      "\n",
      "type=weaksubj len=1 word1=abandon pos1=verb stemmed1=y priorpolarity=negative\n",
      "\n",
      "type=weaksubj len=1 word1=abandon pos1=verb stemmed1=y priorpolarity=negative\n",
      "\n",
      "type=strongsubj len=1 word1=abase pos1=verb stemmed1=y priorpolarity=negative\n",
      "\n",
      "type=strongsubj len=1 word1=abase pos1=verb stemmed1=y priorpolarity=negative\n",
      "\n",
      "type=strongsubj len=1 word1=abasement pos1=anypos stemmed1=y priorpolarity=negative\n",
      "\n",
      "type=strongsubj len=1 word1=abasement pos1=anypos stemmed1=y priorpolarity=negative\n",
      "\n"
     ]
    }
   ],
   "source": [
    "with open(\"sent_lexicon\", mode=\"r\", encoding=\"utf-8\") as f:\n",
    "  line_cnt = 0\n",
    "  for line in f:\n",
    "     loaded_line = line.strip()\n",
    "     print(line)\n",
    "     print(loaded_line)\n",
    "     print()\n",
    "     line_cnt += 1\n",
    "     if line_cnt > 4:\n",
    "       break"
   ]
  },
  {
   "cell_type": "markdown",
   "metadata": {
    "id": "Mml4nOtIUBhn"
   },
   "source": [
    "Lexica such as this can be used to solve\n",
    "the classification task without using Machine Learning. For example, one might look up every word $w_1 ... w_n$ in a document, and compute a **binary score**\n",
    "$S_{binary}$ by counting how many words have a positive or a\n",
    "negative label in the sentiment lexicon $SLex$.\n",
    "\n",
    "$$S_{binary}(w_1 w_2 ... w_n) = \\sum_{i = 1}^{n}\\text{sign}(SLex\\big[w_i\\big])$$\n",
    "\n",
    "where $\\text{sign}(SLex\\big[w_i\\big])$ refers to the polarity of $w_i$.\n",
    "\n",
    "**Threshold.** On average, there are more positive than negative words per review (~7.13 more positive than negative per review) to take this bias into account you should use a threshold of **8** (roughly the bias itself) to make it harder to classify as positive.\n",
    "\n",
    "$$\n",
    "\\text{classify}(S_{binary}(w_1 w_2 ... w_n)) = \\bigg\\{\\begin{array}{ll}\n",
    "        \\text{positive} & \\text{if } S_{binary}(w_1w_2...w_n) > threshold\\\\\n",
    "        \\text{negative} & \\text{otherwise}\n",
    "        \\end{array}\n",
    "$$\n"
   ]
  },
  {
   "cell_type": "markdown",
   "metadata": {
    "id": "tOFnMvbeeZrc"
   },
   "source": [
    "#### (Q1.1) Implement this approach and report its classification accuracy. (1 pt)"
   ]
  },
  {
   "cell_type": "code",
   "execution_count": 29,
   "metadata": {},
   "outputs": [],
   "source": [
    "# Extracting a word-sentiment dictionary from the provided lexicon\n",
    "with open(\"sent_lexicon\", mode=\"r\", encoding=\"utf-8\") as lexicon:\n",
    "    word_polarity_dict = {}\n",
    "    \n",
    "    for i, line in enumerate(lexicon):\n",
    "        loaded_line = line.strip()\n",
    "        parts = loaded_line.split()\n",
    "\n",
    "        # Initialize pair variables for the dictionary\n",
    "        word = None\n",
    "        priorpolarity = None\n",
    "\n",
    "        # Using string methods to locate and extract words and sentiment labels\n",
    "        for part in parts:\n",
    "            if part.startswith('word1='):\n",
    "                word = part.split('word1=')[1]\n",
    "            if part.startswith('priorpolarity='):\n",
    "                priorpolarity = part.split('priorpolarity=')[1]\n",
    "\n",
    "        if word and priorpolarity and word not in word_polarity_dict:\n",
    "            word_polarity_dict[word] = priorpolarity"
   ]
  },
  {
   "cell_type": "code",
   "execution_count": 30,
   "metadata": {},
   "outputs": [
    {
     "name": "stdout",
     "output_type": "stream",
     "text": [
      "{'neutral', 'negative', 'positive', 'both'}\n"
     ]
    }
   ],
   "source": [
    "# Inspect the set of sentiment labels in the lexicon\n",
    "print(set(word_polarity_dict.values()))"
   ]
  },
  {
   "cell_type": "code",
   "execution_count": 31,
   "metadata": {
    "id": "ED2aTEYutW1-"
   },
   "outputs": [],
   "source": [
    "# YOUR CODE HERE\n",
    "with open(\"reviews.json\", mode=\"r\", encoding=\"utf-8\") as f:\n",
    "    reviews = json.load(f)\n",
    "    # Prepare a set pos tags of special bracket markers\n",
    "    bracket_pos = ['-LRB-', '-RRB-']\n",
    "    # Initialize a list of final scores and a list of ground-truth labels\n",
    "    final_score_list = []\n",
    "    gold_label_list = []\n",
    "\n",
    "    # Loop over every review unit \n",
    "    for i, unit in enumerate(reviews):\n",
    "        # first retrieve sentiment labels and store in a list\n",
    "        unit_gold = unit['sentiment']\n",
    "        gold_label_list.append(unit_gold)\n",
    "\n",
    "        # Then retrieve the list of sentences in\n",
    "        # the current review unit and store them in a list\n",
    "        unit_sentence_list = unit['content']\n",
    "        # Initialize a word list and a sentiment score variable\n",
    "        unit_word_list = []\n",
    "        sentiment_score = 0\n",
    "\n",
    "        # Loop over every sentence in the current review unit\n",
    "        for sentence_word_list in unit_sentence_list:\n",
    "            # further loop over every word-pos pair in a sentence\n",
    "            for word, pos in sentence_word_list:\n",
    "                # only collect words that are with alphabetic letters (ruling out punctuations)\n",
    "                # and also exclude special bracket markers\n",
    "                if re.search(r'[A-Za-z]', word) and pos not in bracket_pos:\n",
    "                    # lower-case them and add them to the word list of the current review unit\n",
    "                    unit_word_list.append(word.lower())            \n",
    "\n",
    "        # Loop over every word in the word list of the current review unit\n",
    "        for word in unit_word_list:\n",
    "            # Checking if they are in the lexicon\n",
    "            if word in word_polarity_dict:\n",
    "                # return positive, sentiment score + 1\n",
    "                if word_polarity_dict[word] == 'positive':\n",
    "                    sentiment_score += 1\n",
    "                # return negative, sentiment score - 1\n",
    "                elif word_polarity_dict[word] == 'negative':\n",
    "                    sentiment_score += -1\n",
    "                # return other labels, sentiment score doesn't change\n",
    "                else:\n",
    "                    sentiment_score += 0\n",
    "            # if the word is not in the lexicon, sentiment score doesn't change\n",
    "            else:\n",
    "                sentiment_score += 0\n",
    "\n",
    "        # Add results per review unit to a list\n",
    "        final_score_list.append(sentiment_score)"
   ]
  },
  {
   "cell_type": "code",
   "execution_count": 32,
   "metadata": {},
   "outputs": [],
   "source": [
    "# Convert the score list into a label list using the provided threshold\n",
    "converted_tag_list = ['POS' if score > 8 else 'NEG' for score in final_score_list]"
   ]
  },
  {
   "cell_type": "code",
   "execution_count": 33,
   "metadata": {},
   "outputs": [
    {
     "name": "stdout",
     "output_type": "stream",
     "text": [
      "2000\n",
      "2000\n",
      "2000\n"
     ]
    }
   ],
   "source": [
    "print(len(final_score_list))\n",
    "print(len(gold_label_list))\n",
    "print(len(converted_tag_list))"
   ]
  },
  {
   "cell_type": "code",
   "execution_count": 34,
   "metadata": {
    "id": "iy528EUTphz5"
   },
   "outputs": [
    {
     "name": "stdout",
     "output_type": "stream",
     "text": [
      "Accuracy: 68.5%\n"
     ]
    }
   ],
   "source": [
    "# token_results should be a list of binary indicators; for example [1, 0, 1, ...]\n",
    "# where 1 indicates a correct classification and 0 an incorrect classification.\n",
    "token_results = [1 if label == gold_label_list[i] else 0 for i, label in enumerate(converted_tag_list)]\n",
    "token_accuracy = round(((token_results.count(1)/len(token_results))*100), 2)\n",
    "print(f\"Accuracy: {token_accuracy}%\")"
   ]
  },
  {
   "cell_type": "code",
   "execution_count": 35,
   "metadata": {},
   "outputs": [],
   "source": [
    "# Define a function for the above accuracy report\n",
    "def accuracy_report(gold, predictions):\n",
    "    results = [1 if label == gold[i] else 0 for i, label in enumerate(predictions)]\n",
    "    accuracy = round(((results.count(1)/len(results))*100), 2)\n",
    "    return results, accuracy"
   ]
  },
  {
   "cell_type": "markdown",
   "metadata": {
    "id": "Twox0s_3eS0V"
   },
   "source": [
    "As the sentiment lexicon also has information about the **magnitude** of\n",
    "sentiment (e.g., *“excellent\"* has the same sentiment _polarity_ as *“good\"* but it has a higher magnitude), we can take a more fine-grained approach by adding up all\n",
    "sentiment scores, and deciding the polarity of the movie review using\n",
    "the sign of the weighted score $S_{weighted}$.\n",
    "\n",
    "$$S_{weighted}(w_1w_2...w_n) = \\sum_{i = 1}^{n}SLex\\big[w_i\\big]$$\n",
    "\n",
    "\n",
    "Make sure you define an appropriate threshold for this approach.\n",
    "\n",
    "#### (Q1.2) Now incorporate magnitude information and report the classification accuracy. Don't forget to use the threshold. (1pt)"
   ]
  },
  {
   "cell_type": "code",
   "execution_count": 37,
   "metadata": {},
   "outputs": [
    {
     "name": "stdout",
     "output_type": "stream",
     "text": [
      "{'weaksubj', 'strongsubj'}\n"
     ]
    }
   ],
   "source": [
    "# Inspecting all possible labels of \"type\" (magnitude labels) in the lexicon\n",
    "with open(\"sent_lexicon\", mode=\"r\", encoding=\"utf-8\") as lexicon:\n",
    "    mag_label = []\n",
    "    \n",
    "    for i, line in enumerate(lexicon):\n",
    "        loaded_line = line.strip()\n",
    "        parts = loaded_line.split()\n",
    "\n",
    "        for part in parts:\n",
    "            if part.startswith('type='):\n",
    "                label = part.split('type=')[1]\n",
    "                mag_label.append(label)\n",
    "\n",
    "mag_set = set(mag_label)\n",
    "print(mag_set)"
   ]
  },
  {
   "cell_type": "code",
   "execution_count": 38,
   "metadata": {
    "id": "qG3hUDnPtkhS"
   },
   "outputs": [],
   "source": [
    "# YOUR CODE HERE\n",
    "# Adjust the codes to include magnitude in lexicon labels\n",
    "with open(\"sent_lexicon\", mode=\"r\", encoding=\"utf-8\") as lexicon:\n",
    "    word_polarity_dict_mag = {}\n",
    "    \n",
    "    for i, line in enumerate(lexicon):\n",
    "        loaded_line = line.strip()\n",
    "        parts = loaded_line.split()\n",
    "\n",
    "        word = None\n",
    "        priorpolarity = None\n",
    "\n",
    "        for part in parts:\n",
    "            if part.startswith('word1='):\n",
    "                word = part.split('word1=')[1]\n",
    "            if part.startswith('priorpolarity='):\n",
    "                priorpolarity = part.split('priorpolarity=')[1]\n",
    "            if part.startswith('type='):\n",
    "                magnitude = part.split('type=')[1][:-4]\n",
    "\n",
    "        if word and priorpolarity and word not in word_polarity_dict_mag:\n",
    "            word_polarity_dict_mag[word] = magnitude +' '+ priorpolarity"
   ]
  },
  {
   "cell_type": "code",
   "execution_count": 39,
   "metadata": {},
   "outputs": [
    {
     "name": "stdout",
     "output_type": "stream",
     "text": [
      "{'weak negative', 'strong positive', 'weak neutral', 'weak both', 'strong negative', 'strong both', 'weak positive', 'strong neutral'}\n"
     ]
    }
   ],
   "source": [
    "# All possible lexicon labels after including magnitude\n",
    "print(set(word_polarity_dict_mag.values()))"
   ]
  },
  {
   "cell_type": "code",
   "execution_count": 40,
   "metadata": {},
   "outputs": [],
   "source": [
    "with open(\"reviews.json\", mode=\"r\", encoding=\"utf-8\") as f:\n",
    "    reviews = json.load(f)\n",
    "    bracket_pos = ['-LRB-', '-RRB-']\n",
    "    final_score_list = []\n",
    "    gold_label_list = []\n",
    "    \n",
    "\n",
    "    for i, unit in enumerate(reviews):\n",
    "        unit_gold = unit['sentiment']\n",
    "        gold_label_list.append(unit_gold)\n",
    "        \n",
    "        unit_sentence_list = unit['content']\n",
    "        unit_word_list = []\n",
    "        sentiment_score = 0\n",
    "        \n",
    "        for sentence_word_list in unit_sentence_list:\n",
    "            for word, pos in sentence_word_list:\n",
    "                if re.search(r'[A-Za-z]', word) and pos not in bracket_pos:\n",
    "                    unit_word_list.append(word.lower())            \n",
    "\n",
    "        # Adjust the checking conditions as magnitude info is included\n",
    "        # Using a weighted scoring system to differentiate the magnitude\n",
    "        for word in unit_word_list:\n",
    "            if word in word_polarity_dict_mag:\n",
    "                if word_polarity_dict_mag[word] == 'strong positive':\n",
    "                    sentiment_score += 2\n",
    "                elif word_polarity_dict_mag[word] == 'weak positive':\n",
    "                    sentiment_score += 1\n",
    "                elif word_polarity_dict_mag[word] == 'strong negative':\n",
    "                    sentiment_score += -2\n",
    "                elif word_polarity_dict_mag[word] == 'weak negative':\n",
    "                    sentiment_score += -1\n",
    "                else:\n",
    "                    sentiment_score += 0\n",
    "\n",
    "            else:\n",
    "                sentiment_score += 0\n",
    "                    \n",
    "        final_score_list.append(sentiment_score)         "
   ]
  },
  {
   "cell_type": "markdown",
   "metadata": {},
   "source": [
    "Since the weighted scoring system is newly defined, the originally provided threshold is no longer appropriate. We still follow the spirit of setting a threshold around the value of \"how many more positive than negative per review\" for a new threshold in this case. Observing that the (positive) average score value computed from scores of all review units roughly reveals \"how many more positive than negative per review\" in general in our sample, so we take a value around this average score as the new threshold."
   ]
  },
  {
   "cell_type": "code",
   "execution_count": 42,
   "metadata": {},
   "outputs": [
    {
     "name": "stdout",
     "output_type": "stream",
     "text": [
      "2000\n",
      "10.517\n",
      "11\n"
     ]
    }
   ],
   "source": [
    "print(len(final_score_list))\n",
    "avg_threshold_m = sum(final_score_list)/len(final_score_list)\n",
    "print(avg_threshold_m)\n",
    "magnitude_threshold = int(avg_threshold_m)+1\n",
    "print(magnitude_threshold)"
   ]
  },
  {
   "cell_type": "code",
   "execution_count": 43,
   "metadata": {},
   "outputs": [],
   "source": [
    "converted_tag_list_magnitude = ['POS' if score > magnitude_threshold else 'NEG' for score in final_score_list]"
   ]
  },
  {
   "cell_type": "code",
   "execution_count": 44,
   "metadata": {},
   "outputs": [],
   "source": [
    "magnitude_results, accuracy_maginitude = accuracy_report(gold_label_list, converted_tag_list_magnitude)"
   ]
  },
  {
   "cell_type": "code",
   "execution_count": 45,
   "metadata": {},
   "outputs": [
    {
     "name": "stdout",
     "output_type": "stream",
     "text": [
      "The accuracy: 68.85%\n"
     ]
    }
   ],
   "source": [
    "print(f\"The accuracy: {accuracy_maginitude}%\")"
   ]
  },
  {
   "cell_type": "markdown",
   "metadata": {
    "id": "h9SHoGPfsAHV"
   },
   "source": [
    "#### (Q.1.3) Make a barplot of the two results (0.5pt)"
   ]
  },
  {
   "cell_type": "code",
   "execution_count": 47,
   "metadata": {},
   "outputs": [
    {
     "data": {
      "image/png": "[encoded data removed]",
      "text/plain": [
       "<Figure size 640x480 with 1 Axes>"
      ]
     },
     "metadata": {},
     "output_type": "display_data"
    }
   ],
   "source": [
    "# The barplot for the magnitude lexicon-based classifier\n",
    "correct_count_token = token_results.count(1)\n",
    "incorrect_count_token = token_results.count(0)\n",
    "correct_count_m = magnitude_results.count(1)\n",
    "incorrect_count_m = magnitude_results.count(0)\n",
    "\n",
    "categories = ['Correct token', 'Correct magnitude', 'Incorrect token', 'Incorrect magnitude']\n",
    "counts = [correct_count_token, correct_count_m, incorrect_count_token, incorrect_count_m]\n",
    "\n",
    "\n",
    "plt.bar(categories, counts, color=['green', 'darkgreen', 'red', 'darkred'])\n",
    "plt.title('Sentiment Analysis Results - The Token and Magnitude Lexicon-Based Classifier')\n",
    "plt.xlabel('Classification Outcome')\n",
    "plt.ylabel('Number of Instances')\n",
    "plt.tight_layout()\n",
    "plt.show()"
   ]
  },
  {
   "cell_type": "markdown",
   "metadata": {
    "id": "sNhS8OCVxMHd"
   },
   "source": [
    "#### (Q1.4) A better threshold (1pt)\n",
    "Above we have defined a threshold to account for an inherent bias in the dataset: there are more positive than negative words per review.\n",
    "However, that threshold does not take into account *document length*. Explain why this is a problem and implement an alternative way to compute the threshold."
   ]
  },
  {
   "cell_type": "markdown",
   "metadata": {
    "id": "xo7gk1I-omLI"
   },
   "source": [
    "If the document length is not taken into account, it can be difficult for shorter reviews to be classified as \"positive\". This is because the shorter length would make it difficult for short reviews to include a enough number of positive words to reach the threshold of being claissified as \"positive\". As a result, although some short reviews may be highly positive in their tone, they may still be classified as \"negative\", causing an unwanted bias. In the following code, we simply normalize the sentiment score by the length of a review to reduce this bias."
   ]
  },
  {
   "cell_type": "code",
   "execution_count": 50,
   "metadata": {
    "id": "Dwt0B8h8aKjr"
   },
   "outputs": [],
   "source": [
    "# YOUR CODE HERE\n",
    "with open(\"reviews.json\", mode=\"r\", encoding=\"utf-8\") as f:\n",
    "    reviews = json.load(f)\n",
    "    bracket_pos = ['-LRB-', '-RRB-']\n",
    "    final_normalized_score_list = []\n",
    "    gold_label_list = []\n",
    "    \n",
    "\n",
    "    for i, unit in enumerate(reviews):\n",
    "        unit_gold = unit['sentiment']\n",
    "        gold_label_list.append(unit_gold)\n",
    "        \n",
    "        unit_length = len(unit)\n",
    "        \n",
    "        unit_sentence_list = unit['content']\n",
    "        unit_word_list = []\n",
    "        sentiment_score = 0\n",
    "        \n",
    "        for sentence_word_list in unit_sentence_list:\n",
    "            for word, pos in sentence_word_list:\n",
    "                if re.search(r'[A-Za-z]', word) and pos not in bracket_pos:\n",
    "                    unit_word_list.append(word.lower())            \n",
    "        \n",
    "        for word in unit_word_list:\n",
    "            if word in word_polarity_dict_mag:\n",
    "                if word_polarity_dict_mag[word] == 'strong positive':\n",
    "                    sentiment_score += 2\n",
    "                elif word_polarity_dict_mag[word] == 'weak positive':\n",
    "                    sentiment_score += 1\n",
    "                elif word_polarity_dict_mag[word] == 'strong negative':\n",
    "                    sentiment_score += -2\n",
    "                elif word_polarity_dict_mag[word] == 'weak negative':\n",
    "                    sentiment_score += -1\n",
    "                else:\n",
    "                    sentiment_score += 0\n",
    "\n",
    "            else:\n",
    "                sentiment_score += 0\n",
    "\n",
    "        # The normalization to reduce the effect of review length\n",
    "        normalized_score = sentiment_score / unit_length\n",
    "        final_normalized_score_list.append(normalized_score)"
   ]
  },
  {
   "cell_type": "code",
   "execution_count": 51,
   "metadata": {},
   "outputs": [
    {
     "name": "stdout",
     "output_type": "stream",
     "text": [
      "2000\n"
     ]
    }
   ],
   "source": [
    "print(len(final_normalized_score_list))"
   ]
  },
  {
   "cell_type": "code",
   "execution_count": 52,
   "metadata": {},
   "outputs": [
    {
     "name": "stdout",
     "output_type": "stream",
     "text": [
      "4\n"
     ]
    }
   ],
   "source": [
    "normalized_threshold = int(sum(final_normalized_score_list)/len(final_normalized_score_list))+1\n",
    "print(normalized_threshold)"
   ]
  },
  {
   "cell_type": "code",
   "execution_count": 53,
   "metadata": {},
   "outputs": [],
   "source": [
    "converted_tag_list_normalized = ['POS' if score > normalized_threshold else 'NEG' for score in final_normalized_score_list]"
   ]
  },
  {
   "cell_type": "code",
   "execution_count": 54,
   "metadata": {},
   "outputs": [
    {
     "name": "stdout",
     "output_type": "stream",
     "text": [
      "Accuracy: 68.6%\n"
     ]
    }
   ],
   "source": [
    "results, accuracy = accuracy_report(gold_label_list, converted_tag_list_normalized)\n",
    "print(f\"Accuracy: {accuracy}%\")"
   ]
  },
  {
   "cell_type": "markdown",
   "metadata": {
    "id": "LibV4nR89BXb"
   },
   "source": [
    "# (2) Naive Bayes (9.5pts)"
   ]
  },
  {
   "cell_type": "markdown",
   "metadata": {
    "id": "fnF9adQnuwia"
   },
   "source": [
    "\n",
    "Your second task is to program a simple Machine Learning approach that operates\n",
    "on a simple Bag-of-Words (BoW) representation of the text data, as\n",
    "described by Pang et al. (2002). In this approach, the only features we\n",
    "will consider are the words in the text themselves, without bringing in\n",
    "external sources of information. The BoW model is a popular way of\n",
    "representing texts as vectors, making it\n",
    "easy to apply classical Machine Learning algorithms on NLP tasks.\n",
    "However, the BoW representation is also very crude, since it discards\n",
    "all information related to word order and grammatical structure in the\n",
    "original text—as the name suggests.\n",
    "\n",
    "## Writing your own classifier (4pts)\n",
    "\n",
    "Write your own code to implement the Naive Bayes (NB) classifier. As\n",
    "a reminder, the Naive Bayes classifier works according to the following\n",
    "equation:\n",
    "$$\\hat{c} = \\operatorname*{arg\\,max}_{c \\in C} P(c|\\bar{f}) = \\operatorname*{arg\\,max}_{c \\in C} P(c)\\prod^n_{i=1} P(f_i|c)$$\n",
    "where $C = \\{ \\text{POS}, \\text{NEG} \\}$ is the set of possible classes,\n",
    "$\\hat{c} \\in C$ is the most probable class, and $\\bar{f}$ is the feature\n",
    "vector. Remember that we use the log of these probabilities when making\n",
    "a prediction:\n",
    "$$\\hat{c} = \\operatorname*{arg\\,max}_{c \\in C} \\Big\\{\\log P(c) + \\sum^n_{i=1} \\log P(f_i|c)\\Big\\}$$\n",
    "\n",
    "You can find more details about Naive Bayes in [Jurafsky &\n",
    "Martin](https://web.stanford.edu/~jurafsky/slp3/). You can also look at\n",
    "this helpful\n",
    "[pseudo-code](https://nlp.stanford.edu/IR-book/html/htmledition/naive-bayes-text-classification-1.html).\n",
    "\n",
    "*Note: this section and the next aim to put you in a position to replicate\n",
    "    Pang et al.'s Naive Bayes results. However, your numerical results\n",
    "    will differ from theirs, as they used different data.*\n",
    "\n",
    "**You must write the Naive Bayes training and prediction code from\n",
    "scratch.** You will not be given credit for using off-the-shelf Machine\n",
    "Learning libraries.\n",
    "\n",
    "The data contains the text of the reviews, where each document consists\n",
    "of the sentences in the review, the sentiment of the review and an index\n",
    "(cv) that you will later use for cross-validation. The\n",
    "text has already been tokenised and POS-tagged for you. Your algorithm\n",
    "should read in the text, **lowercase it**, store the words and their\n",
    "frequencies in an appropriate data structure that allows for easy\n",
    "computation of the probabilities used in the Naive Bayes algorithm, and\n",
    "then make predictions for new instances.\n"
   ]
  },
  {
   "cell_type": "markdown",
   "metadata": {
    "id": "vEpyQSBSkb33"
   },
   "source": [
    "#### (Q2.1) Unseen words (1pt)\n",
    "The presence of words in the test dataset that\n",
    "have not been seen during training can cause probabilities in the Naive Bayes classifier to equal $0$.\n",
    "These can be words which are unseen in both positive and negative training reviews (case 1), but also words which are seen in reviews _of only one sentiment class_ in the training dataset (case 2). In both cases, **you should skip these words for both classes at test time**.  What would be the problem instead with skipping words only for one class in case 2?"
   ]
  },
  {
   "cell_type": "markdown",
   "metadata": {
    "id": "BanFiYYnoxDW"
   },
   "source": [
    "*Write your answer here.*\n",
    "\n",
    "If we skip words only for one class in case 2, then the likelihood of these words would participate in the sum of log-likelihood as a part of the following computation for **only one** class before the final comparison and prediction:\n",
    "\n",
    "$$ \\log P(c_n)+ \\sum_{i\\in\\text{positions}} P(w_i|c_n) $$\n",
    "\n",
    "Then this would affect the prediction in an imbalanced way, as the result value of the class where the words are not skipped would be bigger and the final prediction would be biased to this class."
   ]
  },
  {
   "cell_type": "markdown",
   "metadata": {
    "id": "gsZRhaI3WvzC"
   },
   "source": [
    "#### (Q2.2) Train your classifier on (positive and negative) reviews with cv-value 000-899, and test it on the remaining (positive and negative) reviews cv900–cv999.  Report results using classification accuracy as your evaluation metric. Your  features are the word vocabulary. The value of a feature is the count of that feature (word) in the document. (2pts)\n"
   ]
  },
  {
   "cell_type": "code",
   "execution_count": 60,
   "metadata": {
    "id": "G7zaJYGFvIJ3"
   },
   "outputs": [],
   "source": [
    "# YOUR CODE HERE\n",
    "# The basic-version NB classifier without smoothing\n",
    "# The data preprocessiing\n",
    "def create_train_test(reviews):\n",
    "    train_reviews = []\n",
    "    train_sentiments = []\n",
    "    test_reviews = []\n",
    "    test_sentiments = []\n",
    "\n",
    "    for i, unit in enumerate(reviews):\n",
    "        unit_sentence_list = unit['content']\n",
    "        unit_cv = unit['cv']\n",
    "        unit_sentiment = unit['sentiment']\n",
    "        \n",
    "        # The training set\n",
    "        if 0 <= unit_cv <= 899:\n",
    "            unit_word_list = []  \n",
    "            train_sentiments.append(unit_sentiment)\n",
    "            \n",
    "            for sentence_word_list in unit_sentence_list:\n",
    "                for word, pos in sentence_word_list:\n",
    "                    if re.search(r'[A-Za-z]', word) and pos not in bracket_pos:\n",
    "                        unit_word_list.append(word.lower())\n",
    "\n",
    "            train_reviews.append(unit_word_list)\n",
    "\n",
    "        # The test set\n",
    "        elif 900 <= unit_cv <= 999:\n",
    "            unit_word_list = []  \n",
    "            test_sentiments.append(unit_sentiment)\n",
    "\n",
    "            for sentence_word_list in unit_sentence_list:\n",
    "                for word, pos in sentence_word_list:\n",
    "                    if re.search(r'[A-Za-z]', word) and pos not in bracket_pos:\n",
    "                        unit_word_list.append(word.lower())\n",
    "\n",
    "            test_reviews.append(unit_word_list)\n",
    "    \n",
    "    return train_reviews, train_sentiments, test_reviews, test_sentiments"
   ]
  },
  {
   "cell_type": "code",
   "execution_count": 61,
   "metadata": {},
   "outputs": [
    {
     "name": "stdout",
     "output_type": "stream",
     "text": [
      "1800\n",
      "200\n"
     ]
    }
   ],
   "source": [
    "train_reviews, train_sentiments, test_reviews, test_sentiments = create_train_test(reviews)\n",
    "print(len(train_reviews))\n",
    "print(len(test_reviews))"
   ]
  },
  {
   "cell_type": "code",
   "execution_count": 62,
   "metadata": {},
   "outputs": [
    {
     "name": "stdout",
     "output_type": "stream",
     "text": [
      "44812\n"
     ]
    }
   ],
   "source": [
    "# Construct the grand vocabulary set V\n",
    "vocabulary = set()\n",
    "\n",
    "for review_word_list in train_reviews:\n",
    "    vocabulary.update(review_word_list)\n",
    "\n",
    "vocabulary = sorted(list(vocabulary))\n",
    "print(len(vocabulary))"
   ]
  },
  {
   "cell_type": "code",
   "execution_count": 63,
   "metadata": {},
   "outputs": [],
   "source": [
    "# The training part in the pseudo-code\n",
    "# N = CountDoc\n",
    "N = len(train_reviews)\n",
    "\n",
    "sentiment_counts = defaultdict(int) # initialize a default dict\n",
    "\n",
    "# Collect N_pos and N_neg\n",
    "for sentiment in train_sentiments:\n",
    "    sentiment_counts[sentiment] += 1\n",
    "\n",
    "# Prior[pos] and Prior[neg] - P(c)\n",
    "prior_pos = sentiment_counts['POS']/N\n",
    "prior_neg = sentiment_counts['NEG']/N\n",
    "\n",
    "# A nested dict - outer key are sentiments, \n",
    "# values are with counters (inner dicts) for each word occur in the sentiment\n",
    "word_counts_per_sentiment = defaultdict(Counter) \n",
    "total_word_counts = defaultdict(int) # A default dict of sentiment: total word count\n",
    "\n",
    "for review, sentiment in zip(train_reviews, train_sentiments):\n",
    "    word_counts_per_sentiment[sentiment].update(review) # count(w_i,c)\n",
    "    total_word_counts[sentiment] += len(review) #\\sum_{w\\in V} count(w,c), total num of words of text_c\n",
    "\n",
    "conditional_prob = defaultdict(lambda:defaultdict(float))\n",
    "for sentiment, word_counts in word_counts_per_sentiment.items():\n",
    "    total_words_sentiment = total_word_counts[sentiment] # retrieve the corresponding \\sum_{w\\in V} count(w,c)\n",
    "    for word in vocabulary: # for each t \\in V\n",
    "        if total_words_sentiment != 0: # avoid deviding by 0\n",
    "            conditional_prob[word][sentiment] = word_counts[word]/total_words_sentiment # count(w_i,c) / \\sum_{w\\in V} count(w,c), or T_{ct}/\\sum T_{ct}\n",
    "            # The learned P(w_i|c) are in place\n",
    "            "
   ]
  },
  {
   "cell_type": "code",
   "execution_count": 64,
   "metadata": {},
   "outputs": [
    {
     "name": "stderr",
     "output_type": "stream",
     "text": [
      "Classifying reviews: 100%|███████████████████████████████████████████████████████████| 200/200 [03:57<00:00,  1.19s/it]\n"
     ]
    }
   ],
   "source": [
    "# The applying part in the pseudo-code\n",
    "predictions = []\n",
    "# Put prior probabilities in a dictionary for easier dynamic reference\n",
    "priors = {'POS':prior_pos, 'NEG':prior_neg}\n",
    "\n",
    "# Introduce a progress bar for the loop\n",
    "for review in tqdm(test_reviews, desc=\"Classifying reviews\"):\n",
    "    # Initialize a dictionary to store P(review|c_pos) and P(review|c_neg)\n",
    "    # for convenient comparison later\n",
    "    scores = dict() \n",
    "\n",
    "    # Loop over 2 sentiments\n",
    "    for sentiment in priors.keys():\n",
    "        score = math.log(priors[sentiment]) # log P(c)\n",
    "\n",
    "        for word in review:\n",
    "            # Ignore words not seen in the training set and exclude \n",
    "            # words of which the conditional prob is 0\n",
    "            if word in vocabulary and conditional_prob[word][sentiment] != 0:\n",
    "                score += math.log(conditional_prob[word][sentiment])\n",
    "\n",
    "        scores[sentiment] = score \n",
    "\n",
    "    # The prediction for a review is the higher score (argmax logP(c)+\\sum logP(w_i|c)\n",
    "    predicted_sentiment_review = max(scores,key=scores.get)\n",
    "    predictions.append(predicted_sentiment_review)"
   ]
  },
  {
   "cell_type": "code",
   "execution_count": 65,
   "metadata": {},
   "outputs": [
    {
     "name": "stdout",
     "output_type": "stream",
     "text": [
      "Accuracy: 50.0%\n"
     ]
    }
   ],
   "source": [
    "NB1_results, NB1_accuracy = accuracy_report(test_sentiments, predictions)\n",
    "NB1_results = [1 if label == test_sentiments[i] else 0 for i, label in enumerate(predictions)]# a list of binary indicators\n",
    "print(f\"Accuracy: {NB1_accuracy}%\")"
   ]
  },
  {
   "cell_type": "code",
   "execution_count": 66,
   "metadata": {},
   "outputs": [],
   "source": [
    "# Encapsule the training and testing into a function, \n",
    "# but changed to using np arrays for faster computation\n",
    "\n",
    "def Naive_Bayes_classifier(training_texts, training_labels, testing_texts):\n",
    "    # Build vocabulary\n",
    "    vocabulary = set()\n",
    "    for review in training_texts:\n",
    "        vocabulary.update(review)\n",
    "    vocabulary = sorted(list(vocabulary))\n",
    "    vocab_size = len(vocabulary)\n",
    "\n",
    "    # Convert vocabulary to indices for numpy operations\n",
    "    vocab_index = {word: i for i, word in enumerate(vocabulary)}\n",
    "    label_set = sorted(set(training_labels))\n",
    "    label_index = {label: i for i, label in enumerate(label_set)}\n",
    "\n",
    "    # Initialize arrays for word counts and label counts\n",
    "    word_counts = np.zeros((len(label_set), vocab_size))\n",
    "    label_counts = np.zeros(len(label_set))\n",
    "\n",
    "\n",
    "    # Count word occurrences per label\n",
    "    for review, label in zip(training_texts, training_labels):\n",
    "        label_id = label_index[label]\n",
    "        label_counts[label_id] += 1\n",
    "        for word in review:\n",
    "            if word in vocab_index:\n",
    "                word_counts[label_id, vocab_index[word]] += 1\n",
    "\n",
    "    # Calculate prior probabilities\n",
    "    prior_probs = label_counts / len(training_texts)\n",
    "\n",
    "    # Calculate conditional probabilities\n",
    "    conditional_probs = word_counts / word_counts.sum(axis=1, keepdims=True)\n",
    "\n",
    "    # Classify test samples\n",
    "    predictions = []\n",
    "    for review in tqdm(testing_texts, desc=\"Classifying reviews\"):\n",
    "        scores = []\n",
    "        for label_id, label in enumerate(label_set):\n",
    "            # Start with log prior probability\n",
    "            score = math.log(prior_probs[label_id])\n",
    "\n",
    "            # Add log probabilities of words in the review\n",
    "            for word in review:\n",
    "                # skip words that were not seen during training\n",
    "                if word in vocab_index:\n",
    "                    word_prob = conditional_probs[label_id, vocab_index[word]]\n",
    "                    # avoid log(0)L\n",
    "                    if word_prob > 0:\n",
    "                        score += math.log(word_prob)\n",
    "            scores.append(score)\n",
    "\n",
    "        # Choose the label with the highest score\n",
    "        best_label_id = np.argmax(scores)\n",
    "        predictions.append(label_set[best_label_id])\n",
    "\n",
    "    return predictions\n"
   ]
  },
  {
   "cell_type": "code",
   "execution_count": 67,
   "metadata": {},
   "outputs": [
    {
     "name": "stderr",
     "output_type": "stream",
     "text": [
      "Classifying reviews: 100%|█████████████████████████████████████████████████████████| 200/200 [00:00<00:00, 1470.61it/s]\n"
     ]
    }
   ],
   "source": [
    "NB_predictions = Naive_Bayes_classifier(train_reviews, train_sentiments, test_reviews)"
   ]
  },
  {
   "cell_type": "code",
   "execution_count": 68,
   "metadata": {},
   "outputs": [
    {
     "name": "stdout",
     "output_type": "stream",
     "text": [
      "Accuracy: 50.0%\n"
     ]
    }
   ],
   "source": [
    "results, accuracy = accuracy_report(test_sentiments, NB_predictions)\n",
    "print(f\"Accuracy: {accuracy}%\")"
   ]
  },
  {
   "cell_type": "markdown",
   "metadata": {
    "id": "0INK-PBoM6CB"
   },
   "source": [
    "#### (Q2.3) Would you consider accuracy to also be a good way to evaluate your classifier in a situation where 90% of your data instances are of positive movie reviews? (1pt)\n",
    "\n",
    "Simulate this scenario by keeping the positive reviews\n",
    "data unchanged, but only using negative reviews cv000–cv089 for\n",
    "training, and cv900–cv909 for testing. Calculate the classification\n",
    "accuracy, and explain what changed."
   ]
  },
  {
   "cell_type": "markdown",
   "metadata": {
    "id": "oFbcsYlipBAw"
   },
   "source": [
    "\n",
    "The accuracy drops dramatically, because the classifier only witnesses most word tokens under the positive sentiment label and their probabilities given a negative label are 0 or really low. Therefore, the classifier would be heavily biased towards predicting the positive label, and this greatly damages the accuracy. The low accuracy is an indirect result of this problem, the problem is more directly revealed in the recall."
   ]
  },
  {
   "cell_type": "code",
   "execution_count": 71,
   "metadata": {
    "id": "GWDkt5ZrrFGp"
   },
   "outputs": [],
   "source": [
    "# YOUR CODE HERE\n",
    "# The data preprocessiing for the unbalancing experiment\n",
    "train_reviews_exp = []\n",
    "train_sentiments_exp = []\n",
    "test_reviews_exp = []\n",
    "test_sentiments_exp = []\n",
    "\n",
    "for i, unit in enumerate(reviews):\n",
    "    unit_sentence_list = unit['content']\n",
    "    unit_cv = unit['cv']\n",
    "    unit_sentiment = unit['sentiment']\n",
    "    \n",
    "    # The training set\n",
    "    if 0 <= unit_cv <= 899 and unit_sentiment == 'POS':\n",
    "        unit_word_list = []  \n",
    "        train_sentiments_exp.append(unit_sentiment)\n",
    "        \n",
    "        for sentence_word_list in unit_sentence_list:\n",
    "            for word, pos in sentence_word_list:\n",
    "                if re.search(r'[A-Za-z]', word) and pos not in bracket_pos:\n",
    "                    unit_word_list.append(word.lower())\n",
    "\n",
    "        train_reviews_exp.append(unit_word_list)\n",
    "\n",
    "    elif 0 <= unit_cv <= 89 and unit_sentiment == 'NEG':\n",
    "        unit_word_list = []  \n",
    "        train_sentiments_exp.append(unit_sentiment)\n",
    "        \n",
    "        for sentence_word_list in unit_sentence_list:\n",
    "            for word, pos in sentence_word_list:\n",
    "                if re.search(r'[A-Za-z]', word) and pos not in bracket_pos:\n",
    "                    unit_word_list.append(word.lower())\n",
    "\n",
    "        train_reviews_exp.append(unit_word_list)\n",
    "\n",
    "    # The test set\n",
    "    elif 900 <= unit_cv <= 999 and unit_sentiment == 'POS':\n",
    "        unit_word_list = []  \n",
    "        test_sentiments_exp.append(unit_sentiment)\n",
    "\n",
    "        for sentence_word_list in unit_sentence_list:\n",
    "            for word, pos in sentence_word_list:\n",
    "                if re.search(r'[A-Za-z]', word) and pos not in bracket_pos:\n",
    "                    unit_word_list.append(word.lower())\n",
    "\n",
    "        test_reviews_exp.append(unit_word_list)\n",
    "\n",
    "    elif 900 <= unit_cv <= 909 and unit_sentiment == 'NEG':\n",
    "        unit_word_list = []  \n",
    "        test_sentiments_exp.append(unit_sentiment)\n",
    "\n",
    "        for sentence_word_list in unit_sentence_list:\n",
    "            for word, pos in sentence_word_list:\n",
    "                if re.search(r'[A-Za-z]', word) and pos not in bracket_pos:\n",
    "                    unit_word_list.append(word.lower())\n",
    "\n",
    "        test_reviews_exp.append(unit_word_list)"
   ]
  },
  {
   "cell_type": "code",
   "execution_count": 72,
   "metadata": {},
   "outputs": [
    {
     "name": "stdout",
     "output_type": "stream",
     "text": [
      "990\n",
      "110\n"
     ]
    }
   ],
   "source": [
    "print(len(train_reviews_exp))\n",
    "print(len(test_reviews_exp))"
   ]
  },
  {
   "cell_type": "code",
   "execution_count": 73,
   "metadata": {},
   "outputs": [
    {
     "name": "stderr",
     "output_type": "stream",
     "text": [
      "Classifying reviews: 100%|█████████████████████████████████████████████████████████| 110/110 [00:00<00:00, 1478.79it/s]\n"
     ]
    }
   ],
   "source": [
    "predictions_exp = Naive_Bayes_classifier(train_reviews_exp, train_sentiments_exp, test_reviews_exp)"
   ]
  },
  {
   "cell_type": "code",
   "execution_count": 74,
   "metadata": {},
   "outputs": [
    {
     "name": "stdout",
     "output_type": "stream",
     "text": [
      "Accuracy: 9.09%\n"
     ]
    }
   ],
   "source": [
    "results, accuracy = accuracy_report(test_sentiments_exp, predictions_exp)\n",
    "print(f\"Accuracy: {accuracy}%\")"
   ]
  },
  {
   "cell_type": "markdown",
   "metadata": {},
   "source": [
    "A supplementary cross-validation for the final data analysis"
   ]
  },
  {
   "cell_type": "code",
   "execution_count": 76,
   "metadata": {},
   "outputs": [],
   "source": [
    "def unit_word_list(unit_sentence_list, unit_sentiment):\n",
    "    unit_word_list = []\n",
    "            \n",
    "    for sentence_word_list in unit_sentence_list:\n",
    "        for word, pos in sentence_word_list:\n",
    "            if re.search(r'[A-Za-z]', word) and pos not in bracket_pos:\n",
    "                unit_word_list.append(word.lower())\n",
    "\n",
    "    return unit_sentiment, unit_word_list\n",
    "\n",
    "\n",
    "def round_robin_splitting(reviews):\n",
    "    split1, split2, split3, split4, split5, split6, split7, split8, split9, split10 = ([] for i in range(10))\n",
    "\n",
    "    for i, unit in enumerate(reviews):\n",
    "        unit_sentence_list = unit['content']\n",
    "        unit_cv = unit['cv']\n",
    "        unit_sentiment = unit['sentiment']\n",
    "        \n",
    "        if unit_cv % 10 == 0:\n",
    "            sentiment, review = unit_word_list(unit_sentence_list, unit_sentiment)\n",
    "            split1.append([sentiment, review])\n",
    "            \n",
    "        elif unit_cv % 10 == 1:\n",
    "            sentiment, review = unit_word_list(unit_sentence_list, unit_sentiment)\n",
    "            split2.append([sentiment, review])\n",
    "\n",
    "        elif unit_cv % 10 == 2:\n",
    "            sentiment, review = unit_word_list(unit_sentence_list, unit_sentiment)\n",
    "            split3.append([sentiment, review])\n",
    "\n",
    "        elif unit_cv % 10 == 3:\n",
    "            sentiment, review = unit_word_list(unit_sentence_list, unit_sentiment)\n",
    "            split4.append([sentiment, review])\n",
    "\n",
    "        elif unit_cv % 10 == 4:\n",
    "            sentiment, review = unit_word_list(unit_sentence_list, unit_sentiment)\n",
    "            split5.append([sentiment, review])\n",
    "\n",
    "        elif unit_cv % 10 == 5:\n",
    "            sentiment, review = unit_word_list(unit_sentence_list, unit_sentiment)\n",
    "            split6.append([sentiment, review])\n",
    "\n",
    "        elif unit_cv % 10 == 6:\n",
    "            sentiment, review = unit_word_list(unit_sentence_list, unit_sentiment)\n",
    "            split7.append([sentiment, review])\n",
    "        \n",
    "        elif unit_cv % 10 == 7:\n",
    "            sentiment, review = unit_word_list(unit_sentence_list, unit_sentiment)\n",
    "            split8.append([sentiment, review])\n",
    "\n",
    "        elif unit_cv % 10 == 8:\n",
    "            sentiment, review = unit_word_list(unit_sentence_list, unit_sentiment)\n",
    "            split9.append([sentiment, review])\n",
    "        \n",
    "        elif unit_cv % 10 == 9:\n",
    "            sentiment, review = unit_word_list(unit_sentence_list, unit_sentiment)\n",
    "            split10.append([sentiment, review])\n",
    "\n",
    "    return split1, split2, split3, split4, split5, split6, split7, split8, split9, split10\n",
    "\n",
    "with open(\"reviews.json\", mode=\"r\", encoding=\"utf-8\") as f:\n",
    "    reviews = json.load(f)\n",
    "\n",
    "s1, s2, s3, s4, s5, s6, s7, s8, s9, s10 = round_robin_splitting(reviews)   # each split is a list which has items that are a list of sentiment, review  \n",
    "\n",
    "\n",
    "def Naive_Bayes_basic_on_split(testsplit, trainsplits):\n",
    "\n",
    "    train_reviews = []\n",
    "    train_sentiments = []\n",
    "    test_reviews = []\n",
    "    test_sentiments = []\n",
    "\n",
    "    for i in range(len(testsplit)):\n",
    "        test_reviews.append(testsplit[i][1])\n",
    "        test_sentiments.append(testsplit[i][0])\n",
    "\n",
    "    for split in trainsplits:\n",
    "        for i in range(len(split)):\n",
    "            train_reviews.append(split[i][1])\n",
    "            train_sentiments.append(split[i][0])\n",
    "\n",
    "    predictions = Naive_Bayes_classifier(train_reviews, train_sentiments, test_reviews)\n",
    "    results, accuracy = accuracy_report(test_sentiments, predictions)\n",
    "\n",
    "    return results, accuracy"
   ]
  },
  {
   "cell_type": "code",
   "execution_count": 77,
   "metadata": {},
   "outputs": [],
   "source": [
    "def calc_cross_val_score_basicNB():\n",
    "    total_accuracy = []\n",
    "\n",
    "    results_s1, accuracy_s1 = Naive_Bayes_basic_on_split(s1, [s2, s3, s4, s5, s6, s7, s8, s9, s10])\n",
    "    print(f\"Accuracy split 1: {accuracy_s1}%\")\n",
    "    total_accuracy.append(accuracy_s1)\n",
    "\n",
    "    results_s2, accuracy_s2 = Naive_Bayes_basic_on_split(s2, [s1, s3, s4, s5, s6, s7, s8, s9, s10])\n",
    "    print(f\"Accuracy split 2: {accuracy_s2}%\")\n",
    "    total_accuracy.append(accuracy_s2)\n",
    "\n",
    "    results_s3, accuracy_s3 = Naive_Bayes_basic_on_split(s3, [s2, s1, s4, s5, s6, s7, s8, s9, s10])\n",
    "    print(f\"Accuracy split 3: {accuracy_s3}%\")\n",
    "    total_accuracy.append(accuracy_s3)\n",
    "\n",
    "    results_s4, accuracy_s4 = Naive_Bayes_basic_on_split(s4, [s2, s3, s1, s5, s6, s7, s8, s9, s10])\n",
    "    print(f\"Accuracy split 4: {accuracy_s4}%\")\n",
    "    total_accuracy.append(accuracy_s4)\n",
    "\n",
    "    results_s5, accuracy_s5 = Naive_Bayes_basic_on_split(s5, [s2, s3, s4, s1, s6, s7, s8, s9, s10])\n",
    "    print(f\"Accuracy split 5: {accuracy_s5}%\")\n",
    "    total_accuracy.append(accuracy_s5)\n",
    "\n",
    "    results_s6, accuracy_s6 = Naive_Bayes_basic_on_split(s6, [s2, s3, s4, s5, s1, s7, s8, s9, s10])\n",
    "    print(f\"Accuracy split 6: {accuracy_s6}%\")\n",
    "    total_accuracy.append(accuracy_s6)\n",
    "\n",
    "    results_s7, accuracy_s7 = Naive_Bayes_basic_on_split(s7, [s2, s3, s4, s5, s6, s1, s8, s9, s10])\n",
    "    print(f\"Accuracy split 7: {accuracy_s7}%\")\n",
    "    total_accuracy.append(accuracy_s7)\n",
    "\n",
    "    results_s8, accuracy_s8 = Naive_Bayes_basic_on_split(s8, [s2, s3, s4, s5, s6, s7, s1, s9, s10])\n",
    "    print(f\"Accuracy split 8: {accuracy_s8}%\")\n",
    "    total_accuracy.append(accuracy_s8)\n",
    "\n",
    "    results_s9, accuracy_s9 = Naive_Bayes_basic_on_split(s9, [s2, s3, s4, s5, s6, s7, s8, s1, s10])\n",
    "    print(f\"Accuracy split 9: {accuracy_s9}%\")\n",
    "    total_accuracy.append(accuracy_s9)\n",
    "\n",
    "    results_s10, accuracy_s10 = Naive_Bayes_basic_on_split(s10, [s2, s3, s4, s5, s6, s7, s8, s9, s1])\n",
    "    print(f\"Accuracy split 10: {accuracy_s10}%\")\n",
    "    total_accuracy.append(accuracy_s10)\n",
    "\n",
    "    return total_accuracy"
   ]
  },
  {
   "cell_type": "code",
   "execution_count": 78,
   "metadata": {},
   "outputs": [],
   "source": [
    "# initialize a dataframe to be able to store accuracy data for discussion question\n",
    "df_accuracies = pd.DataFrame(columns=['model', 'accuracy'])"
   ]
  },
  {
   "cell_type": "code",
   "execution_count": 79,
   "metadata": {},
   "outputs": [
    {
     "name": "stderr",
     "output_type": "stream",
     "text": [
      "Classifying reviews: 100%|█████████████████████████████████████████████████████████| 200/200 [00:00<00:00, 1451.65it/s]\n"
     ]
    },
    {
     "name": "stdout",
     "output_type": "stream",
     "text": [
      "Accuracy split 1: 51.0%\n"
     ]
    },
    {
     "name": "stderr",
     "output_type": "stream",
     "text": [
      "Classifying reviews: 100%|█████████████████████████████████████████████████████████| 200/200 [00:00<00:00, 1416.67it/s]\n"
     ]
    },
    {
     "name": "stdout",
     "output_type": "stream",
     "text": [
      "Accuracy split 2: 48.0%\n"
     ]
    },
    {
     "name": "stderr",
     "output_type": "stream",
     "text": [
      "Classifying reviews: 100%|█████████████████████████████████████████████████████████| 200/200 [00:00<00:00, 1222.63it/s]\n"
     ]
    },
    {
     "name": "stdout",
     "output_type": "stream",
     "text": [
      "Accuracy split 3: 47.5%\n"
     ]
    },
    {
     "name": "stderr",
     "output_type": "stream",
     "text": [
      "Classifying reviews: 100%|█████████████████████████████████████████████████████████| 200/200 [00:00<00:00, 1505.91it/s]\n"
     ]
    },
    {
     "name": "stdout",
     "output_type": "stream",
     "text": [
      "Accuracy split 4: 48.5%\n"
     ]
    },
    {
     "name": "stderr",
     "output_type": "stream",
     "text": [
      "Classifying reviews: 100%|█████████████████████████████████████████████████████████| 200/200 [00:00<00:00, 1559.80it/s]\n"
     ]
    },
    {
     "name": "stdout",
     "output_type": "stream",
     "text": [
      "Accuracy split 5: 41.5%\n"
     ]
    },
    {
     "name": "stderr",
     "output_type": "stream",
     "text": [
      "Classifying reviews: 100%|█████████████████████████████████████████████████████████| 200/200 [00:00<00:00, 1405.99it/s]\n"
     ]
    },
    {
     "name": "stdout",
     "output_type": "stream",
     "text": [
      "Accuracy split 6: 45.5%\n"
     ]
    },
    {
     "name": "stderr",
     "output_type": "stream",
     "text": [
      "Classifying reviews: 100%|█████████████████████████████████████████████████████████| 200/200 [00:00<00:00, 1345.03it/s]\n"
     ]
    },
    {
     "name": "stdout",
     "output_type": "stream",
     "text": [
      "Accuracy split 7: 51.5%\n"
     ]
    },
    {
     "name": "stderr",
     "output_type": "stream",
     "text": [
      "Classifying reviews: 100%|█████████████████████████████████████████████████████████| 200/200 [00:00<00:00, 1523.25it/s]\n"
     ]
    },
    {
     "name": "stdout",
     "output_type": "stream",
     "text": [
      "Accuracy split 8: 52.5%\n"
     ]
    },
    {
     "name": "stderr",
     "output_type": "stream",
     "text": [
      "Classifying reviews: 100%|██████████████████████████████████████████████████████████| 200/200 [00:00<00:00, 954.75it/s]\n"
     ]
    },
    {
     "name": "stdout",
     "output_type": "stream",
     "text": [
      "Accuracy split 9: 51.0%\n"
     ]
    },
    {
     "name": "stderr",
     "output_type": "stream",
     "text": [
      "Classifying reviews: 100%|█████████████████████████████████████████████████████████| 200/200 [00:00<00:00, 1512.67it/s]"
     ]
    },
    {
     "name": "stdout",
     "output_type": "stream",
     "text": [
      "Accuracy split 10: 44.5%\n",
      "Accuracy total: 48.15%\n",
      "Variance is 11.1525\n"
     ]
    },
    {
     "name": "stderr",
     "output_type": "stream",
     "text": [
      "\n"
     ]
    }
   ],
   "source": [
    "total_accuracy = calc_cross_val_score_basicNB()\n",
    "mean_accuracy = sum(total_accuracy)/len(total_accuracy)\n",
    "print(f\"Accuracy total: {mean_accuracy}%\")\n",
    "\n",
    "variance = sum((acc - mean_accuracy) ** 2 for acc in total_accuracy) / len(total_accuracy)\n",
    "\n",
    "print(f\"Variance is {variance}\")\n",
    "\n",
    "for i in total_accuracy:\n",
    "    list_row = [\"Basic Naive Bayes\", i]\n",
    "    df_accuracies.loc[len(df_accuracies)] = list_row"
   ]
  },
  {
   "cell_type": "markdown",
   "metadata": {
    "id": "6wJzcHX3WUDm"
   },
   "source": [
    "## Smoothing (1pt)\n",
    "\n",
    "As mentioned above, the presence of words in the test dataset that\n",
    "have not been seen during training can cause probabilities in the Naive\n",
    "Bayes classifier to be $0$, thus making that particular test instance\n",
    "undecidable. The standard way to mitigate this effect (as well as to\n",
    "give more clout to rare words) is to use smoothing, in which the\n",
    "probability fraction\n",
    "$$\\frac{\\text{count}(w_i, c)}{\\sum\\limits_{w\\in V} \\text{count}(w, c)}$$ for a word\n",
    "$w_i$ becomes\n",
    "$$\\frac{\\text{count}(w_i, c) + \\text{smoothing}(w_i)}{\\sum\\limits_{w\\in V} \\text{count}(w, c) + \\sum\\limits_{w \\in V} \\text{smoothing}(w)}$$\n",
    "\n",
    "\n",
    "\n"
   ]
  },
  {
   "cell_type": "markdown",
   "metadata": {
    "id": "PBNIcbwUWphC"
   },
   "source": [
    "#### (Q2.4) Implement Laplace feature smoothing (1pt)\n",
    "Implement Laplace smoothing, i.e., smoothing with a constant value ($smoothing(w) = \\kappa, \\forall w \\in V$), in your Naive\n",
    "Bayes classifier’s code, and report the accuracy.\n",
    "Use $\\kappa = 1$."
   ]
  },
  {
   "cell_type": "code",
   "execution_count": 82,
   "metadata": {},
   "outputs": [],
   "source": [
    "# Encapsule the training and testing into a function, \n",
    "# but changed to using np arrays for faster computation\n",
    "\n",
    "def Naive_Bayes_classifier_laplace(training_texts, training_labels, testing_texts):\n",
    "    # Build vocabulary\n",
    "    vocabulary = set()\n",
    "    for review in training_texts:\n",
    "        vocabulary.update(review)\n",
    "    vocabulary = sorted(list(vocabulary))\n",
    "    vocab_size = len(vocabulary)\n",
    "\n",
    "    # Convert vocabulary to indices for numpy operations\n",
    "    vocab_index = {word: i for i, word in enumerate(vocabulary)}\n",
    "    label_set = sorted(set(training_labels))\n",
    "    label_index = {label: i for i, label in enumerate(label_set)}\n",
    "\n",
    "    # Initialize arrays for word counts and label counts\n",
    "    word_counts = np.ones((len(label_set), vocab_size))\n",
    "    label_counts = np.zeros(len(label_set))\n",
    "\n",
    "\n",
    "    # Count word occurrences per label\n",
    "    for review, label in zip(training_texts, training_labels):\n",
    "        label_id = label_index[label]\n",
    "        label_counts[label_id] += 1\n",
    "        for word in review:\n",
    "            if word in vocab_index:\n",
    "                word_counts[label_id, vocab_index[word]] += 1\n",
    "\n",
    "    # Calculate prior probabilities\n",
    "    prior_probs = label_counts / len(training_texts)\n",
    "\n",
    "    # Calculate conditional probabilities\n",
    "    conditional_probs = word_counts / word_counts.sum(axis=1, keepdims=True)\n",
    "\n",
    "    # Classify test samples\n",
    "    predictions = []\n",
    "    for review in tqdm(testing_texts, desc=\"Classifying reviews\"):\n",
    "        scores = []\n",
    "        for label_id, label in enumerate(label_set):\n",
    "            # Start with log prior probability\n",
    "            score = math.log(prior_probs[label_id])\n",
    "\n",
    "            # Add log probabilities of words in the review\n",
    "            for word in review:\n",
    "                # skip words that were not seen during training\n",
    "                if word in vocab_index:\n",
    "                    word_prob = conditional_probs[label_id, vocab_index[word]]\n",
    "                    score += math.log(word_prob)\n",
    "            scores.append(score)\n",
    "\n",
    "        # Choose the label with the highest score\n",
    "        best_label_id = np.argmax(scores)\n",
    "        predictions.append(label_set[best_label_id])\n",
    "\n",
    "    return predictions\n"
   ]
  },
  {
   "cell_type": "code",
   "execution_count": 83,
   "metadata": {},
   "outputs": [
    {
     "name": "stderr",
     "output_type": "stream",
     "text": [
      "Classifying reviews: 100%|█████████████████████████████████████████████████████████| 200/200 [00:00<00:00, 1615.46it/s]\n"
     ]
    }
   ],
   "source": [
    "smoothed_predictions = Naive_Bayes_classifier_laplace(train_reviews, train_sentiments, test_reviews)"
   ]
  },
  {
   "cell_type": "code",
   "execution_count": 84,
   "metadata": {},
   "outputs": [
    {
     "name": "stdout",
     "output_type": "stream",
     "text": [
      "Accuracy: 82.5%\n"
     ]
    }
   ],
   "source": [
    "results, accuracy = accuracy_report(test_sentiments, smoothed_predictions)\n",
    "print(f\"Accuracy: {accuracy}%\")"
   ]
  },
  {
   "cell_type": "markdown",
   "metadata": {
    "id": "ZiGcgwba87D5"
   },
   "source": [
    "## Cross-Validation (1.5pts)\n",
    "\n",
    "A serious danger in using Machine Learning on small datasets, with many\n",
    "iterations of slightly different versions of the algorithms, is ending up with Type III errors, also called the “testing hypotheses\n",
    "suggested by the data” errors. This type of error occurs when we make\n",
    "repeated improvements to our classifiers by playing with features and\n",
    "their processing, but we don’t get a fresh, never-before seen test\n",
    "dataset every time. Thus, we risk developing a classifier that gets better\n",
    "and better on our data, but only gets worse at generalizing to new, unseen data. In other words, we risk developping a classifier that overfits.\n",
    "\n",
    "A simple method to guard against Type III errors is to use\n",
    "Cross-Validation. In **N-fold Cross-Validation**, we divide the data into N\n",
    "distinct chunks, or folds. Then, we repeat the experiment N times: each\n",
    "time holding out one of the folds for testing, training our classifier\n",
    "on the remaining N - 1 data folds, and reporting performance on the\n",
    "held-out fold. We can use different strategies for dividing the data:\n",
    "\n",
    "-   Consecutive splitting:\n",
    "  - cv000–cv099 = Split 1\n",
    "  - cv100–cv199 = Split 2\n",
    "  - etc.\n",
    "  \n",
    "-   Round-robin splitting (mod 10):\n",
    "  - cv000, cv010, cv020, … = Split 1\n",
    "  - cv001, cv011, cv021, … = Split 2\n",
    "  - etc.\n",
    "\n",
    "-   Random sampling/splitting\n",
    "  - Not used here (but you may choose to split this way in a non-educational situation)\n",
    "\n"
   ]
  },
  {
   "cell_type": "markdown",
   "metadata": {
    "id": "8OeLcbSauGtR"
   },
   "source": [
    "#### (Q2.5) Write the code to implement 10-fold cross-validation using round-robin splitting for your Naive Bayes classifier from Q2.4 and compute the 10 accuracies. Report the final performance, which is the average of the performances per fold. If all splits perform equally well, this is a good sign. (1pt)"
   ]
  },
  {
   "cell_type": "code",
   "execution_count": 87,
   "metadata": {
    "id": "3KeCGPa7Nuzx"
   },
   "outputs": [],
   "source": [
    "def unit_word_list(unit_sentence_list, unit_sentiment):\n",
    "    unit_word_list = []\n",
    "            \n",
    "    for sentence_word_list in unit_sentence_list:\n",
    "        for word, pos in sentence_word_list:\n",
    "            if re.search(r'[A-Za-z]', word) and pos not in bracket_pos:\n",
    "                unit_word_list.append(word.lower())\n",
    "\n",
    "    return unit_sentiment, unit_word_list\n",
    "\n",
    "\n",
    "def round_robin_splitting(reviews):\n",
    "    split1, split2, split3, split4, split5, split6, split7, split8, split9, split10 = ([] for i in range(10))\n",
    "\n",
    "    for i, unit in enumerate(reviews):\n",
    "        unit_sentence_list = unit['content']\n",
    "        unit_cv = unit['cv']\n",
    "        unit_sentiment = unit['sentiment']\n",
    "        \n",
    "        if unit_cv % 10 == 0:\n",
    "            sentiment, review = unit_word_list(unit_sentence_list, unit_sentiment)\n",
    "            split1.append([sentiment, review])\n",
    "            \n",
    "        elif unit_cv % 10 == 1:\n",
    "            sentiment, review = unit_word_list(unit_sentence_list, unit_sentiment)\n",
    "            split2.append([sentiment, review])\n",
    "\n",
    "        elif unit_cv % 10 == 2:\n",
    "            sentiment, review = unit_word_list(unit_sentence_list, unit_sentiment)\n",
    "            split3.append([sentiment, review])\n",
    "\n",
    "        elif unit_cv % 10 == 3:\n",
    "            sentiment, review = unit_word_list(unit_sentence_list, unit_sentiment)\n",
    "            split4.append([sentiment, review])\n",
    "\n",
    "        elif unit_cv % 10 == 4:\n",
    "            sentiment, review = unit_word_list(unit_sentence_list, unit_sentiment)\n",
    "            split5.append([sentiment, review])\n",
    "\n",
    "        elif unit_cv % 10 == 5:\n",
    "            sentiment, review = unit_word_list(unit_sentence_list, unit_sentiment)\n",
    "            split6.append([sentiment, review])\n",
    "\n",
    "        elif unit_cv % 10 == 6:\n",
    "            sentiment, review = unit_word_list(unit_sentence_list, unit_sentiment)\n",
    "            split7.append([sentiment, review])\n",
    "        \n",
    "        elif unit_cv % 10 == 7:\n",
    "            sentiment, review = unit_word_list(unit_sentence_list, unit_sentiment)\n",
    "            split8.append([sentiment, review])\n",
    "\n",
    "        elif unit_cv % 10 == 8:\n",
    "            sentiment, review = unit_word_list(unit_sentence_list, unit_sentiment)\n",
    "            split9.append([sentiment, review])\n",
    "        \n",
    "        elif unit_cv % 10 == 9:\n",
    "            sentiment, review = unit_word_list(unit_sentence_list, unit_sentiment)\n",
    "            split10.append([sentiment, review])\n",
    "\n",
    "    return split1, split2, split3, split4, split5, split6, split7, split8, split9, split10\n",
    "\n",
    "with open(\"reviews.json\", mode=\"r\", encoding=\"utf-8\") as f:\n",
    "    reviews = json.load(f)\n",
    "\n",
    "s1, s2, s3, s4, s5, s6, s7, s8, s9, s10 = round_robin_splitting(reviews)   # each split is a list which has items that are a list of sentiment, review  \n",
    "\n",
    "def Naive_Bayes_on_split(testsplit, trainsplits):\n",
    "\n",
    "    train_reviews = []\n",
    "    train_sentiments = []\n",
    "    test_reviews = []\n",
    "    test_sentiments = []\n",
    "\n",
    "    for i in range(len(testsplit)):\n",
    "        test_reviews.append(testsplit[i][1])\n",
    "        test_sentiments.append(testsplit[i][0])\n",
    "\n",
    "    for split in trainsplits:\n",
    "        for i in range(len(split)):\n",
    "            train_reviews.append(split[i][1])\n",
    "            train_sentiments.append(split[i][0])\n",
    "\n",
    "    predictions = Naive_Bayes_classifier_laplace(train_reviews, train_sentiments, test_reviews)\n",
    "    results, accuracy = accuracy_report(test_sentiments, predictions)\n",
    "\n",
    "    return results, accuracy\n"
   ]
  },
  {
   "cell_type": "code",
   "execution_count": 88,
   "metadata": {},
   "outputs": [],
   "source": [
    "def calc_cross_val_score():\n",
    "    total_accuracy = []\n",
    "\n",
    "    results_s1, accuracy_s1 = Naive_Bayes_on_split(s1, [s2, s3, s4, s5, s6, s7, s8, s9, s10])\n",
    "    print(f\"Accuracy split 1: {accuracy_s1}%\")\n",
    "    total_accuracy.append(accuracy_s1)\n",
    "\n",
    "    results_s2, accuracy_s2 = Naive_Bayes_on_split(s2, [s1, s3, s4, s5, s6, s7, s8, s9, s10])\n",
    "    print(f\"Accuracy split 2: {accuracy_s2}%\")\n",
    "    total_accuracy.append(accuracy_s2)\n",
    "\n",
    "    results_s3, accuracy_s3 = Naive_Bayes_on_split(s3, [s2, s1, s4, s5, s6, s7, s8, s9, s10])\n",
    "    print(f\"Accuracy split 3: {accuracy_s3}%\")\n",
    "    total_accuracy.append(accuracy_s3)\n",
    "\n",
    "    results_s4, accuracy_s4 = Naive_Bayes_on_split(s4, [s2, s3, s1, s5, s6, s7, s8, s9, s10])\n",
    "    print(f\"Accuracy split 4: {accuracy_s4}%\")\n",
    "    total_accuracy.append(accuracy_s4)\n",
    "\n",
    "    results_s5, accuracy_s5 = Naive_Bayes_on_split(s5, [s2, s3, s4, s1, s6, s7, s8, s9, s10])\n",
    "    print(f\"Accuracy split 5: {accuracy_s5}%\")\n",
    "    total_accuracy.append(accuracy_s5)\n",
    "\n",
    "    results_s6, accuracy_s6 = Naive_Bayes_on_split(s6, [s2, s3, s4, s5, s1, s7, s8, s9, s10])\n",
    "    print(f\"Accuracy split 6: {accuracy_s6}%\")\n",
    "    total_accuracy.append(accuracy_s6)\n",
    "\n",
    "    results_s7, accuracy_s7 = Naive_Bayes_on_split(s7, [s2, s3, s4, s5, s6, s1, s8, s9, s10])\n",
    "    print(f\"Accuracy split 7: {accuracy_s7}%\")\n",
    "    total_accuracy.append(accuracy_s7)\n",
    "\n",
    "    results_s8, accuracy_s8 = Naive_Bayes_on_split(s8, [s2, s3, s4, s5, s6, s7, s1, s9, s10])\n",
    "    print(f\"Accuracy split 8: {accuracy_s8}%\")\n",
    "    total_accuracy.append(accuracy_s8)\n",
    "\n",
    "    results_s9, accuracy_s9 = Naive_Bayes_on_split(s9, [s2, s3, s4, s5, s6, s7, s8, s1, s10])\n",
    "    print(f\"Accuracy split 9: {accuracy_s9}%\")\n",
    "    total_accuracy.append(accuracy_s9)\n",
    "\n",
    "    results_s10, accuracy_s10 = Naive_Bayes_on_split(s10, [s2, s3, s4, s5, s6, s7, s8, s9, s1])\n",
    "    print(f\"Accuracy split 10: {accuracy_s10}%\")\n",
    "    total_accuracy.append(accuracy_s10)\n",
    "\n",
    "    return total_accuracy"
   ]
  },
  {
   "cell_type": "markdown",
   "metadata": {
    "id": "otdlsDXBNyOa"
   },
   "source": [
    "#### (Q2.6) Report the variance of the 10 accuracy scores. (0.5pt)\n",
    "\n",
    "**Please report all future results using 10-fold cross-validation now\n",
    "(unless told to use the held-out test set).** Note: you're not allowed to use a library for computing the variance."
   ]
  },
  {
   "cell_type": "code",
   "execution_count": 90,
   "metadata": {
    "id": "ZoBQm1KuNzNR"
   },
   "outputs": [
    {
     "name": "stderr",
     "output_type": "stream",
     "text": [
      "Classifying reviews: 100%|█████████████████████████████████████████████████████████| 200/200 [00:00<00:00, 1749.85it/s]\n"
     ]
    },
    {
     "name": "stdout",
     "output_type": "stream",
     "text": [
      "Accuracy split 1: 78.5%\n"
     ]
    },
    {
     "name": "stderr",
     "output_type": "stream",
     "text": [
      "Classifying reviews: 100%|█████████████████████████████████████████████████████████| 200/200 [00:00<00:00, 1548.85it/s]\n"
     ]
    },
    {
     "name": "stdout",
     "output_type": "stream",
     "text": [
      "Accuracy split 2: 83.5%\n"
     ]
    },
    {
     "name": "stderr",
     "output_type": "stream",
     "text": [
      "Classifying reviews: 100%|█████████████████████████████████████████████████████████| 200/200 [00:00<00:00, 1610.53it/s]\n"
     ]
    },
    {
     "name": "stdout",
     "output_type": "stream",
     "text": [
      "Accuracy split 3: 80.0%\n"
     ]
    },
    {
     "name": "stderr",
     "output_type": "stream",
     "text": [
      "Classifying reviews: 100%|█████████████████████████████████████████████████████████| 200/200 [00:00<00:00, 1685.96it/s]\n"
     ]
    },
    {
     "name": "stdout",
     "output_type": "stream",
     "text": [
      "Accuracy split 4: 82.5%\n"
     ]
    },
    {
     "name": "stderr",
     "output_type": "stream",
     "text": [
      "Classifying reviews: 100%|█████████████████████████████████████████████████████████| 200/200 [00:00<00:00, 1787.39it/s]\n"
     ]
    },
    {
     "name": "stdout",
     "output_type": "stream",
     "text": [
      "Accuracy split 5: 79.5%\n"
     ]
    },
    {
     "name": "stderr",
     "output_type": "stream",
     "text": [
      "Classifying reviews: 100%|█████████████████████████████████████████████████████████| 200/200 [00:00<00:00, 1682.71it/s]\n"
     ]
    },
    {
     "name": "stdout",
     "output_type": "stream",
     "text": [
      "Accuracy split 6: 84.5%\n"
     ]
    },
    {
     "name": "stderr",
     "output_type": "stream",
     "text": [
      "Classifying reviews: 100%|█████████████████████████████████████████████████████████| 200/200 [00:00<00:00, 1582.90it/s]\n"
     ]
    },
    {
     "name": "stdout",
     "output_type": "stream",
     "text": [
      "Accuracy split 7: 82.0%\n"
     ]
    },
    {
     "name": "stderr",
     "output_type": "stream",
     "text": [
      "Classifying reviews: 100%|█████████████████████████████████████████████████████████| 200/200 [00:00<00:00, 1671.15it/s]\n"
     ]
    },
    {
     "name": "stdout",
     "output_type": "stream",
     "text": [
      "Accuracy split 8: 78.0%\n"
     ]
    },
    {
     "name": "stderr",
     "output_type": "stream",
     "text": [
      "Classifying reviews: 100%|█████████████████████████████████████████████████████████| 200/200 [00:00<00:00, 1734.74it/s]\n"
     ]
    },
    {
     "name": "stdout",
     "output_type": "stream",
     "text": [
      "Accuracy split 9: 83.5%\n"
     ]
    },
    {
     "name": "stderr",
     "output_type": "stream",
     "text": [
      "Classifying reviews: 100%|█████████████████████████████████████████████████████████| 200/200 [00:00<00:00, 1649.28it/s]"
     ]
    },
    {
     "name": "stdout",
     "output_type": "stream",
     "text": [
      "Accuracy split 10: 82.0%\n",
      "Accuracy total: 81.4%\n",
      "Variance is 4.589999999999999\n"
     ]
    },
    {
     "name": "stderr",
     "output_type": "stream",
     "text": [
      "\n"
     ]
    }
   ],
   "source": [
    "total_accuracy = calc_cross_val_score()\n",
    "mean_accuracy = sum(total_accuracy)/len(total_accuracy)\n",
    "print(f\"Accuracy total: {mean_accuracy}%\")\n",
    "\n",
    "variance = sum((acc - mean_accuracy) ** 2 for acc in total_accuracy) / len(total_accuracy)\n",
    "\n",
    "print(f\"Variance is {variance}\")\n",
    "\n",
    "for i in total_accuracy:\n",
    "    list_row = [\"Naive Bayes Laplace\", i]\n",
    "    df_accuracies.loc[len(df_accuracies)] = list_row"
   ]
  },
  {
   "cell_type": "markdown",
   "metadata": {
    "id": "s6A2zX9_BRKm"
   },
   "source": [
    "## Features, overfitting, and the curse of dimensionality\n",
    "\n",
    "In the Bag-of-Words model, ideally we would like each distinct word in\n",
    "the text to be mapped to its own dimension in the output vector\n",
    "representation. However, real world text is messy, and we need to decide\n",
    "on what we consider to be a word. For example, is “`word`\" different\n",
    "from “`Word`\", from “`word`”, or from “`words`\"? Too strict a\n",
    "definition, and the number of features explodes, while our algorithm\n",
    "fails to learn anything generalisable. Too lax, and we risk destroying\n",
    "our learning signal. In the following section, you will learn about\n",
    "confronting the feature sparsity and the overfitting problems as they\n",
    "occur in NLP classification tasks."
   ]
  },
  {
   "cell_type": "markdown",
   "metadata": {
    "id": "EKK8FNt8VtcZ"
   },
   "source": [
    "### Stemming (1.5pts)\n",
    "\n",
    "To make your algorithm more robust, use stemming and hash different inflections of a word to the same feature in the BoW vector space. Please use the [Porter stemming\n",
    "    algorithm](http://www.nltk.org/howto/stem.html) from NLTK.\n",
    "\n"
   ]
  },
  {
   "cell_type": "code",
   "execution_count": 93,
   "metadata": {
    "id": "NxtCul1IrBi_"
   },
   "outputs": [],
   "source": [
    "stemmer = PorterStemmer()\n",
    "\n",
    "# by only adjusting this function, we will use the stemmed versions of the reviews instead of the normal ones\n",
    "def unit_word_list(unit_sentence_list, unit_sentiment):\n",
    "    unit_word_list = []\n",
    "            \n",
    "    for sentence_word_list in unit_sentence_list:\n",
    "        for word, pos in sentence_word_list:\n",
    "            if re.search(r'[A-Za-z]', word) and pos not in bracket_pos:\n",
    "                unit_word_list.append(stemmer.stem(word.lower()))\n",
    "\n",
    "    return unit_sentiment, unit_word_list\n",
    "\n",
    "s1, s2, s3, s4, s5, s6, s7, s8, s9, s10 = round_robin_splitting(reviews)   # each split is a list which has items that are a list of sentiment, review  \n",
    "\n",
    "\n",
    "\n",
    "def Naive_Bayes_on_split(testsplit, trainsplits):\n",
    "\n",
    "    train_reviews = []\n",
    "    train_sentiments = []\n",
    "    test_reviews = []\n",
    "    test_sentiments = []\n",
    "\n",
    "    for i in range(len(testsplit)):\n",
    "        test_reviews.append(testsplit[i][1])\n",
    "        test_sentiments.append(testsplit[i][0])\n",
    "\n",
    "    for split in trainsplits:\n",
    "        for i in range(len(split)):\n",
    "            train_reviews.append(split[i][1])\n",
    "            train_sentiments.append(split[i][0])\n",
    "\n",
    "    predictions = Naive_Bayes_classifier_laplace(train_reviews, train_sentiments, test_reviews)\n",
    "    results, accuracy = accuracy_report(test_sentiments, predictions)\n",
    "\n",
    "    return results, accuracy"
   ]
  },
  {
   "cell_type": "markdown",
   "metadata": {
    "id": "6SrJ1BeLXTnk"
   },
   "source": [
    "#### (Q2.7): How does the performance of your classifier change when you use stemming on your training and test datasets? (1pt)\n",
    "Use cross-validation to evaluate the classifier.\n"
   ]
  },
  {
   "cell_type": "code",
   "execution_count": 95,
   "metadata": {
    "id": "gYqKBOiIrInT",
    "scrolled": true
   },
   "outputs": [
    {
     "name": "stderr",
     "output_type": "stream",
     "text": [
      "Classifying reviews: 100%|█████████████████████████████████████████████████████████| 200/200 [00:00<00:00, 1719.75it/s]\n"
     ]
    },
    {
     "name": "stdout",
     "output_type": "stream",
     "text": [
      "Accuracy split 1: 78.0%\n"
     ]
    },
    {
     "name": "stderr",
     "output_type": "stream",
     "text": [
      "Classifying reviews: 100%|█████████████████████████████████████████████████████████| 200/200 [00:00<00:00, 1605.37it/s]\n"
     ]
    },
    {
     "name": "stdout",
     "output_type": "stream",
     "text": [
      "Accuracy split 2: 82.5%\n"
     ]
    },
    {
     "name": "stderr",
     "output_type": "stream",
     "text": [
      "Classifying reviews: 100%|█████████████████████████████████████████████████████████| 200/200 [00:00<00:00, 1661.55it/s]\n"
     ]
    },
    {
     "name": "stdout",
     "output_type": "stream",
     "text": [
      "Accuracy split 3: 80.5%\n"
     ]
    },
    {
     "name": "stderr",
     "output_type": "stream",
     "text": [
      "Classifying reviews: 100%|█████████████████████████████████████████████████████████| 200/200 [00:00<00:00, 1615.20it/s]\n"
     ]
    },
    {
     "name": "stdout",
     "output_type": "stream",
     "text": [
      "Accuracy split 4: 83.5%\n"
     ]
    },
    {
     "name": "stderr",
     "output_type": "stream",
     "text": [
      "Classifying reviews: 100%|█████████████████████████████████████████████████████████| 200/200 [00:00<00:00, 1829.17it/s]\n"
     ]
    },
    {
     "name": "stdout",
     "output_type": "stream",
     "text": [
      "Accuracy split 5: 79.0%\n"
     ]
    },
    {
     "name": "stderr",
     "output_type": "stream",
     "text": [
      "Classifying reviews: 100%|█████████████████████████████████████████████████████████| 200/200 [00:00<00:00, 1679.16it/s]\n"
     ]
    },
    {
     "name": "stdout",
     "output_type": "stream",
     "text": [
      "Accuracy split 6: 83.5%\n"
     ]
    },
    {
     "name": "stderr",
     "output_type": "stream",
     "text": [
      "Classifying reviews: 100%|█████████████████████████████████████████████████████████| 200/200 [00:00<00:00, 1602.57it/s]\n"
     ]
    },
    {
     "name": "stdout",
     "output_type": "stream",
     "text": [
      "Accuracy split 7: 84.0%\n"
     ]
    },
    {
     "name": "stderr",
     "output_type": "stream",
     "text": [
      "Classifying reviews: 100%|█████████████████████████████████████████████████████████| 200/200 [00:00<00:00, 1676.21it/s]\n"
     ]
    },
    {
     "name": "stdout",
     "output_type": "stream",
     "text": [
      "Accuracy split 8: 76.0%\n"
     ]
    },
    {
     "name": "stderr",
     "output_type": "stream",
     "text": [
      "Classifying reviews: 100%|█████████████████████████████████████████████████████████| 200/200 [00:00<00:00, 1736.11it/s]\n"
     ]
    },
    {
     "name": "stdout",
     "output_type": "stream",
     "text": [
      "Accuracy split 9: 84.5%\n"
     ]
    },
    {
     "name": "stderr",
     "output_type": "stream",
     "text": [
      "Classifying reviews: 100%|█████████████████████████████████████████████████████████| 200/200 [00:00<00:00, 1750.12it/s]"
     ]
    },
    {
     "name": "stdout",
     "output_type": "stream",
     "text": [
      "Accuracy split 10: 82.5%\n",
      "Accuracy total: 81.4%\n",
      "Variance is 7.489999999999999\n"
     ]
    },
    {
     "name": "stderr",
     "output_type": "stream",
     "text": [
      "\n"
     ]
    }
   ],
   "source": [
    "total_accuracy = calc_cross_val_score()\n",
    "mean_accuracy = sum(total_accuracy)/len(total_accuracy)\n",
    "print(f\"Accuracy total: {mean_accuracy}%\")\n",
    "\n",
    "variance = sum((acc - mean_accuracy) ** 2 for acc in total_accuracy) / len(total_accuracy)\n",
    "\n",
    "print(f\"Variance is {variance}\")\n",
    "\n",
    "for i in total_accuracy:\n",
    "    list_row = [\"Naive Bayes stemming\", i]\n",
    "    df_accuracies.loc[len(df_accuracies)] = list_row"
   ]
  },
  {
   "cell_type": "markdown",
   "metadata": {},
   "source": [
    "For some splits using stemming works better, but for some splits using stemming works worse. The overall accuracy is exactly the same; the variance is bigger. We expected stemming to give a better performance because it makes the data less sparse. However, the stemming did however not change the overall accuracy. There can be a tradeoff between the effects brought by the stemming. From one aspect, stemming can help with the dimension reduction for feature vectors, so that the vectors are less sparse and the system can focus on important features and clearer patterns; but on the other hand, this measure may also disregard some specific features (i.e. some specific word forms) that may be loaded with some patterns that are important for the sentiment analysis task."
   ]
  },
  {
   "cell_type": "markdown",
   "metadata": {
    "id": "JkDHVq_1XUVP"
   },
   "source": [
    "#### (Q2.8) What happens to the number of features (i.e., the size of the vocabulary) when using stemming as opposed to (Q2.4)? (0.5pt)\n",
    "Give actual numbers. You can use the held-out training set to determine these."
   ]
  },
  {
   "cell_type": "code",
   "execution_count": 98,
   "metadata": {
    "id": "MA3vee5-rJyy"
   },
   "outputs": [
    {
     "name": "stdout",
     "output_type": "stream",
     "text": [
      "When using stemming the number of features is 31889.\n",
      "When stemming is not used the number of features is 44812.\n"
     ]
    }
   ],
   "source": [
    "training_texts, _, _, _ = create_train_test(reviews)\n",
    "\n",
    "vocabulary = set()\n",
    "for word_list in training_texts:\n",
    "    stemmer_word_list = [stemmer.stem(word) for word in word_list]\n",
    "    vocabulary.update(stemmer_word_list)\n",
    "\n",
    "vocabulary = sorted(list(vocabulary))\n",
    "len_stemmed_voc = len(vocabulary)\n",
    "    \n",
    "vocabulary = set()\n",
    "\n",
    "for word_list in training_texts:\n",
    "    vocabulary.update(word_list)\n",
    "\n",
    "vocabulary = sorted(list(vocabulary))\n",
    "len_normal_voc = len(vocabulary)\n",
    "\n",
    "print(f\"When using stemming the number of features is {len_stemmed_voc}.\")\n",
    "print(f\"When stemming is not used the number of features is {len_normal_voc}.\")"
   ]
  },
  {
   "cell_type": "markdown",
   "metadata": {
    "id": "SoazfxbNV5Lq"
   },
   "source": [
    "### N-grams (1.5pts)\n",
    "\n",
    "A simple way of retaining some of the word\n",
    "order information when using bag-of-words representations is to use **n-gram** features.\n",
    "\n",
    "\n",
    "\n",
    "\n"
   ]
  },
  {
   "cell_type": "markdown",
   "metadata": {
    "id": "OHjy3I7-qWiu"
   },
   "source": [
    "#### (Q2.9) Retrain your classifier from (Q2.4) using **unigrams+bigrams** and **unigrams+bigrams+trigrams** as features. (1pt)\n",
    "Report accuracy and compare it with that of the approaches you have previously implemented. You are allowed to use NLTK to build n-grams from sentences."
   ]
  },
  {
   "cell_type": "code",
   "execution_count": 101,
   "metadata": {
    "id": "eYuKMTOpq9jz"
   },
   "outputs": [],
   "source": [
    "# YOUR CODE HERE\n",
    "def Naive_Bayes_classifier_unigrambigram(training_texts, training_labels, testing_texts):\n",
    "    vocabulary = set()\n",
    "    for text in training_texts:\n",
    "        unigrams = list(ngrams(text, 1))\n",
    "        bigrams = list(ngrams(text, 2, pad_right=True, pad_left = True))\n",
    "        vocabulary.update(unigrams + bigrams)\n",
    "\n",
    "    # due to BOS and EOS we cannot sort the vocab anymore, but it does not really matter    \n",
    "    vocabulary = list(vocabulary)\n",
    "    vocab_size = len(vocabulary)\n",
    "\n",
    "    # Convert vocabulary to indices for numpy operations\n",
    "    vocab_index = {word: i for i, word in enumerate(vocabulary)}\n",
    "    label_set = sorted(set(training_labels))\n",
    "    label_index = {label: i for i, label in enumerate(label_set)}\n",
    "\n",
    "    # Initialize arrays for word counts and label counts\n",
    "    word_counts = np.ones((len(label_set), vocab_size))\n",
    "    label_counts = np.zeros(len(label_set))\n",
    "\n",
    "    # Count word occurrences per label\n",
    "    for review, label in zip(training_texts, training_labels):\n",
    "        label_id = label_index[label]\n",
    "        label_counts[label_id] += 1\n",
    "        unigrams = list(ngrams(review, 1))\n",
    "        bigrams = list(ngrams(review, 2, pad_right=True, pad_left = True))\n",
    "        for word in unigrams + bigrams:\n",
    "            if word in vocab_index:\n",
    "                word_counts[label_id, vocab_index[word]] += 1\n",
    "\n",
    "    # Calculate prior probabilities\n",
    "    prior_probs = label_counts / len(training_texts)\n",
    "\n",
    "    # Calculate conditional probabilities\n",
    "    conditional_probs = word_counts / word_counts.sum(axis=1, keepdims=True)\n",
    "\n",
    "    # Classify test samples\n",
    "    predictions = []\n",
    "    for review in tqdm(testing_texts, desc=\"Classifying reviews\"):\n",
    "        scores = []\n",
    "        unigrams = list(ngrams(review, 1))\n",
    "        bigrams = list(ngrams(review, 2, pad_right=True, pad_left = True))\n",
    "        for label_id, label in enumerate(label_set):\n",
    "            # Start with log prior probability\n",
    "            score = math.log(prior_probs[label_id])\n",
    "\n",
    "            # Add log probabilities of words in the review\n",
    "            for word in unigrams + bigrams:\n",
    "                # skip words that were not seen during training\n",
    "                if word in vocab_index:\n",
    "                    word_prob = conditional_probs[label_id, vocab_index[word]]\n",
    "                    score += math.log(word_prob)\n",
    "            scores.append(score)\n",
    "\n",
    "        # Choose the label with the highest score\n",
    "        best_label_id = np.argmax(scores)\n",
    "        predictions.append(label_set[best_label_id])\n",
    "\n",
    "    return predictions\n",
    "\n",
    "def Naive_Bayes_on_split(testsplit, trainsplits):\n",
    "\n",
    "    train_reviews = []\n",
    "    train_sentiments = []\n",
    "    test_reviews = []\n",
    "    test_sentiments = []\n",
    "\n",
    "    for i in range(len(testsplit)):\n",
    "        test_reviews.append(testsplit[i][1])\n",
    "        test_sentiments.append(testsplit[i][0])\n",
    "\n",
    "    for split in trainsplits:\n",
    "        for i in range(len(split)):\n",
    "            train_reviews.append(split[i][1])\n",
    "            train_sentiments.append(split[i][0])\n",
    "\n",
    "    predictions = Naive_Bayes_classifier_unigrambigram(train_reviews, train_sentiments, test_reviews)\n",
    "    results, accuracy = accuracy_report(test_sentiments, predictions)\n",
    "\n",
    "    return results, accuracy\n"
   ]
  },
  {
   "cell_type": "code",
   "execution_count": 102,
   "metadata": {},
   "outputs": [
    {
     "name": "stderr",
     "output_type": "stream",
     "text": [
      "Classifying reviews: 100%|██████████████████████████████████████████████████████████| 200/200 [00:00<00:00, 584.48it/s]\n"
     ]
    },
    {
     "name": "stdout",
     "output_type": "stream",
     "text": [
      "Accuracy split 1: 78.5%\n"
     ]
    },
    {
     "name": "stderr",
     "output_type": "stream",
     "text": [
      "Classifying reviews: 100%|██████████████████████████████████████████████████████████| 200/200 [00:00<00:00, 546.15it/s]\n"
     ]
    },
    {
     "name": "stdout",
     "output_type": "stream",
     "text": [
      "Accuracy split 2: 83.5%\n"
     ]
    },
    {
     "name": "stderr",
     "output_type": "stream",
     "text": [
      "Classifying reviews: 100%|██████████████████████████████████████████████████████████| 200/200 [00:00<00:00, 542.53it/s]\n"
     ]
    },
    {
     "name": "stdout",
     "output_type": "stream",
     "text": [
      "Accuracy split 3: 82.0%\n"
     ]
    },
    {
     "name": "stderr",
     "output_type": "stream",
     "text": [
      "Classifying reviews: 100%|██████████████████████████████████████████████████████████| 200/200 [00:00<00:00, 466.14it/s]\n"
     ]
    },
    {
     "name": "stdout",
     "output_type": "stream",
     "text": [
      "Accuracy split 4: 85.5%\n"
     ]
    },
    {
     "name": "stderr",
     "output_type": "stream",
     "text": [
      "Classifying reviews: 100%|██████████████████████████████████████████████████████████| 200/200 [00:00<00:00, 604.37it/s]\n"
     ]
    },
    {
     "name": "stdout",
     "output_type": "stream",
     "text": [
      "Accuracy split 5: 83.0%\n"
     ]
    },
    {
     "name": "stderr",
     "output_type": "stream",
     "text": [
      "Classifying reviews: 100%|██████████████████████████████████████████████████████████| 200/200 [00:00<00:00, 570.40it/s]\n"
     ]
    },
    {
     "name": "stdout",
     "output_type": "stream",
     "text": [
      "Accuracy split 6: 86.0%\n"
     ]
    },
    {
     "name": "stderr",
     "output_type": "stream",
     "text": [
      "Classifying reviews: 100%|██████████████████████████████████████████████████████████| 200/200 [00:00<00:00, 451.03it/s]\n"
     ]
    },
    {
     "name": "stdout",
     "output_type": "stream",
     "text": [
      "Accuracy split 7: 84.0%\n"
     ]
    },
    {
     "name": "stderr",
     "output_type": "stream",
     "text": [
      "Classifying reviews: 100%|██████████████████████████████████████████████████████████| 200/200 [00:00<00:00, 556.22it/s]\n"
     ]
    },
    {
     "name": "stdout",
     "output_type": "stream",
     "text": [
      "Accuracy split 8: 82.0%\n"
     ]
    },
    {
     "name": "stderr",
     "output_type": "stream",
     "text": [
      "Classifying reviews: 100%|██████████████████████████████████████████████████████████| 200/200 [00:00<00:00, 579.07it/s]\n"
     ]
    },
    {
     "name": "stdout",
     "output_type": "stream",
     "text": [
      "Accuracy split 9: 84.0%\n"
     ]
    },
    {
     "name": "stderr",
     "output_type": "stream",
     "text": [
      "Classifying reviews: 100%|██████████████████████████████████████████████████████████| 200/200 [00:00<00:00, 581.58it/s]\n"
     ]
    },
    {
     "name": "stdout",
     "output_type": "stream",
     "text": [
      "Accuracy split 10: 82.5%\n",
      "Accuracy total: 83.1%\n",
      "Variance is 3.9899999999999993\n"
     ]
    }
   ],
   "source": [
    "total_accuracy = calc_cross_val_score()\n",
    "mean_accuracy = sum(total_accuracy)/len(total_accuracy)\n",
    "print(f\"Accuracy total: {mean_accuracy}%\")\n",
    "\n",
    "variance = sum((acc - mean_accuracy) ** 2 for acc in total_accuracy) / len(total_accuracy)\n",
    "\n",
    "print(f\"Variance is {variance}\")\n",
    "\n",
    "for i in total_accuracy:\n",
    "    list_row = [\"Naive Bayes Bigrams\", i]\n",
    "    df_accuracies.loc[len(df_accuracies)] = list_row"
   ]
  },
  {
   "cell_type": "code",
   "execution_count": 103,
   "metadata": {},
   "outputs": [],
   "source": [
    "# unigram, bigram and trigram\n",
    "\n",
    "def Naive_Bayes_classifier_unigrambigramtrigram(training_texts, training_labels, testing_texts):\n",
    "    vocabulary = set()\n",
    "    for text in training_texts:\n",
    "        unigrams = list(ngrams(text, 1))\n",
    "        bigrams = list(ngrams(text, 2, pad_right=True, pad_left = True))\n",
    "        trigrams = list(ngrams(text, 3, pad_right=True, pad_left = True))\n",
    "        vocabulary.update(unigrams + bigrams + trigrams)\n",
    "\n",
    "    # due to BOS and EOS we cannot sort the vocab anymore, but it does not really matter    \n",
    "    vocabulary = list(vocabulary)\n",
    "    vocab_size = len(vocabulary)\n",
    "\n",
    "    # Convert vocabulary to indices for numpy operations\n",
    "    vocab_index = {word: i for i, word in enumerate(vocabulary)}\n",
    "    label_set = sorted(set(training_labels))\n",
    "    label_index = {label: i for i, label in enumerate(label_set)}\n",
    "\n",
    "    # Initialize arrays for word counts and label counts\n",
    "    word_counts = np.ones((len(label_set), vocab_size))\n",
    "    label_counts = np.zeros(len(label_set))\n",
    "\n",
    "    # Count word occurrences per label\n",
    "    for review, label in zip(training_texts, training_labels):\n",
    "        label_id = label_index[label]\n",
    "        label_counts[label_id] += 1\n",
    "        unigrams = list(ngrams(review, 1))\n",
    "        bigrams = list(ngrams(review, 2, pad_right=True, pad_left = True))\n",
    "        trigrams = list(ngrams(text, 3, pad_right=True, pad_left = True))\n",
    "        for word in unigrams + bigrams + trigrams:\n",
    "            if word in vocab_index:\n",
    "                word_counts[label_id, vocab_index[word]] += 1\n",
    "\n",
    "    # Calculate prior probabilities\n",
    "    prior_probs = label_counts / len(training_texts)\n",
    "\n",
    "    # Calculate conditional probabilities\n",
    "    conditional_probs = word_counts / word_counts.sum(axis=1, keepdims=True)\n",
    "\n",
    "    # Classify test samples\n",
    "    predictions = []\n",
    "    for review in tqdm(testing_texts, desc=\"Classifying reviews\"):\n",
    "        scores = []\n",
    "        unigrams = list(ngrams(review, 1))\n",
    "        bigrams = list(ngrams(review, 2, pad_right=True, pad_left = True))\n",
    "        trigrams = list(ngrams(text, 3, pad_right=True, pad_left = True))\n",
    "        for label_id, label in enumerate(label_set):\n",
    "            # Start with log prior probability\n",
    "            score = math.log(prior_probs[label_id])\n",
    "\n",
    "            # Add log probabilities of words in the review\n",
    "            for word in unigrams + bigrams + trigrams:\n",
    "                # skip words that were not seen during training\n",
    "                if word in vocab_index:\n",
    "                    word_prob = conditional_probs[label_id, vocab_index[word]]\n",
    "                    score += math.log(word_prob)\n",
    "            scores.append(score)\n",
    "\n",
    "        # Choose the label with the highest score\n",
    "        best_label_id = np.argmax(scores)\n",
    "        predictions.append(label_set[best_label_id])\n",
    "\n",
    "    return predictions\n",
    "\n",
    "def Naive_Bayes_on_split(testsplit, trainsplits):\n",
    "\n",
    "    train_reviews = []\n",
    "    train_sentiments = []\n",
    "    test_reviews = []\n",
    "    test_sentiments = []\n",
    "\n",
    "    for i in range(len(testsplit)):\n",
    "        test_reviews.append(testsplit[i][1])\n",
    "        test_sentiments.append(testsplit[i][0])\n",
    "\n",
    "    for split in trainsplits:\n",
    "        for i in range(len(split)):\n",
    "            train_reviews.append(split[i][1])\n",
    "            train_sentiments.append(split[i][0])\n",
    "\n",
    "    predictions = Naive_Bayes_classifier_unigrambigramtrigram(train_reviews, train_sentiments, test_reviews)\n",
    "    results, accuracy = accuracy_report(test_sentiments, predictions)\n",
    "\n",
    "    return results, accuracy"
   ]
  },
  {
   "cell_type": "code",
   "execution_count": 104,
   "metadata": {},
   "outputs": [
    {
     "name": "stderr",
     "output_type": "stream",
     "text": [
      "Classifying reviews: 100%|██████████████████████████████████████████████████████████| 200/200 [00:00<00:00, 305.44it/s]\n"
     ]
    },
    {
     "name": "stdout",
     "output_type": "stream",
     "text": [
      "Accuracy split 1: 78.0%\n"
     ]
    },
    {
     "name": "stderr",
     "output_type": "stream",
     "text": [
      "Classifying reviews: 100%|██████████████████████████████████████████████████████████| 200/200 [00:00<00:00, 291.57it/s]\n"
     ]
    },
    {
     "name": "stdout",
     "output_type": "stream",
     "text": [
      "Accuracy split 2: 84.5%\n"
     ]
    },
    {
     "name": "stderr",
     "output_type": "stream",
     "text": [
      "Classifying reviews: 100%|██████████████████████████████████████████████████████████| 200/200 [00:00<00:00, 292.93it/s]\n"
     ]
    },
    {
     "name": "stdout",
     "output_type": "stream",
     "text": [
      "Accuracy split 3: 80.0%\n"
     ]
    },
    {
     "name": "stderr",
     "output_type": "stream",
     "text": [
      "Classifying reviews: 100%|██████████████████████████████████████████████████████████| 200/200 [00:00<00:00, 296.86it/s]\n"
     ]
    },
    {
     "name": "stdout",
     "output_type": "stream",
     "text": [
      "Accuracy split 4: 85.5%\n"
     ]
    },
    {
     "name": "stderr",
     "output_type": "stream",
     "text": [
      "Classifying reviews: 100%|██████████████████████████████████████████████████████████| 200/200 [00:00<00:00, 310.41it/s]\n"
     ]
    },
    {
     "name": "stdout",
     "output_type": "stream",
     "text": [
      "Accuracy split 5: 79.5%\n"
     ]
    },
    {
     "name": "stderr",
     "output_type": "stream",
     "text": [
      "Classifying reviews: 100%|██████████████████████████████████████████████████████████| 200/200 [00:00<00:00, 267.82it/s]\n"
     ]
    },
    {
     "name": "stdout",
     "output_type": "stream",
     "text": [
      "Accuracy split 6: 84.0%\n"
     ]
    },
    {
     "name": "stderr",
     "output_type": "stream",
     "text": [
      "Classifying reviews: 100%|██████████████████████████████████████████████████████████| 200/200 [00:00<00:00, 293.97it/s]\n"
     ]
    },
    {
     "name": "stdout",
     "output_type": "stream",
     "text": [
      "Accuracy split 7: 83.5%\n"
     ]
    },
    {
     "name": "stderr",
     "output_type": "stream",
     "text": [
      "Classifying reviews: 100%|██████████████████████████████████████████████████████████| 200/200 [00:00<00:00, 291.90it/s]\n"
     ]
    },
    {
     "name": "stdout",
     "output_type": "stream",
     "text": [
      "Accuracy split 8: 80.5%\n"
     ]
    },
    {
     "name": "stderr",
     "output_type": "stream",
     "text": [
      "Classifying reviews: 100%|██████████████████████████████████████████████████████████| 200/200 [00:00<00:00, 270.93it/s]\n"
     ]
    },
    {
     "name": "stdout",
     "output_type": "stream",
     "text": [
      "Accuracy split 9: 85.0%\n"
     ]
    },
    {
     "name": "stderr",
     "output_type": "stream",
     "text": [
      "Classifying reviews: 100%|██████████████████████████████████████████████████████████| 200/200 [00:00<00:00, 316.97it/s]\n"
     ]
    },
    {
     "name": "stdout",
     "output_type": "stream",
     "text": [
      "Accuracy split 10: 82.0%\n",
      "Accuracy total: 82.25%\n",
      "Variance is 6.1625\n"
     ]
    }
   ],
   "source": [
    "total_accuracy = calc_cross_val_score()\n",
    "\n",
    "mean_accuracy = sum(total_accuracy)/len(total_accuracy)\n",
    "print(f\"Accuracy total: {mean_accuracy}%\")\n",
    "\n",
    "variance = sum((acc - mean_accuracy) ** 2 for acc in total_accuracy) / len(total_accuracy)\n",
    "\n",
    "print(f\"Variance is {variance}\")\n",
    "\n",
    "for i in total_accuracy:\n",
    "    list_row = [\"Naive Bayes Trigrams\", i]\n",
    "    df_accuracies.loc[len(df_accuracies)] = list_row"
   ]
  },
  {
   "cell_type": "markdown",
   "metadata": {
    "id": "dVrGGArkrWoL"
   },
   "source": [
    "\n",
    "#### Q2.10: How many features does the BoW model have to take into account now? (0.5pt)\n",
    "How would you expect the number of features to increase theoretically (e.g., linear, square, cubed, exponential)? How do the number of features increase in the held-out training set (compared to Q2.8)? Do you expect this rate of increase to continue for (much) larger n-grams?\n",
    "\n",
    "Use the held-out training set once again for this."
   ]
  },
  {
   "cell_type": "markdown",
   "metadata": {
    "id": "yEGZ9SV8pPaa"
   },
   "source": [
    "Theoretically, the tabular representation after adding bigrams will increase to size V^2 instead of size V. After adding trigrams, it will be of size V^3. In reality, we only use the features that are actually in our trainingdata, which results in the number of features in the unigram case being the number of unique words in the trainingdata. In the unigram + bigram case, the number of features will be again the number of unqique words in the trainingdata + the unqiue bigrams in the trainingdata, similarly for when the trigrams are added as well. The total number of features is lower than V^2 since we only use the bigrams that are actually in our trainingdata instead of every possible bigram that could have been in our trainingdata."
   ]
  },
  {
   "cell_type": "code",
   "execution_count": 107,
   "metadata": {
    "id": "_z8sAJeUrdtM"
   },
   "outputs": [
    {
     "name": "stdout",
     "output_type": "stream",
     "text": [
      "When using unigrams the number of features is 44812.\n",
      "When using unigrams + bigrams the number of features is 494373.\n",
      "When using unigrams + bigrams + trigrams the number of features is 1398555.\n"
     ]
    }
   ],
   "source": [
    "training_texts, _, _, _ = create_train_test(reviews)\n",
    "\n",
    "vocabulary = set()\n",
    "for text in training_texts:\n",
    "    unigrams = list(ngrams(text, 1))\n",
    "    vocabulary.update(unigrams)\n",
    "    \n",
    "vocabulary = list(vocabulary)\n",
    "vocab_size_1 = len(vocabulary)\n",
    "\n",
    "vocabulary2 = set()\n",
    "for text in training_texts:\n",
    "    unigrams = list(ngrams(text, 1))\n",
    "    bigrams = list(ngrams(text, 2, pad_right=True, pad_left = True))\n",
    "    vocabulary2.update(unigrams + bigrams)\n",
    "\n",
    "vocabulary2 = list(vocabulary2)\n",
    "vocab_size_2 = len(vocabulary2)\n",
    "\n",
    "vocabulary3 = set()\n",
    "for text in training_texts:\n",
    "    unigrams = list(ngrams(text, 1))\n",
    "    bigrams = list(ngrams(text, 2, pad_right=True, pad_left = True))\n",
    "    trigrams = list(ngrams(text, 3, pad_right=True, pad_left = True))\n",
    "    vocabulary3.update(unigrams + bigrams + trigrams)\n",
    "    \n",
    "# Map vocabulary to index and vice versa\n",
    "vocabulary3 = list(vocabulary3)\n",
    "vocab_size_3 = len(vocabulary3)\n",
    "\n",
    "print(f\"When using unigrams the number of features is {vocab_size_1}.\")\n",
    "print(f\"When using unigrams + bigrams the number of features is {vocab_size_2}.\")\n",
    "print(f\"When using unigrams + bigrams + trigrams the number of features is {vocab_size_3}.\")\n",
    "\n"
   ]
  },
  {
   "cell_type": "code",
   "execution_count": 108,
   "metadata": {},
   "outputs": [
    {
     "name": "stdout",
     "output_type": "stream",
     "text": [
      " from unigrams to unigrams + bigrams the n_features increased by a factor of 11.032156565205748\n",
      " from unigrams + bigrams to unigrams + bigrams + trigrams the n_features increased by a factor of 2.8289469691912785\n"
     ]
    }
   ],
   "source": [
    "print(f\" from unigrams to unigrams + bigrams the n_features increased by a factor of {vocab_size_2/vocab_size_1}\")\n",
    "print(f\" from unigrams + bigrams to unigrams + bigrams + trigrams the n_features increased by a factor of {vocab_size_3/vocab_size_2}\")"
   ]
  },
  {
   "cell_type": "markdown",
   "metadata": {
    "id": "CHWKDL3YV6vh"
   },
   "source": [
    "# (3) Support Vector Machines (4pts)"
   ]
  },
  {
   "cell_type": "markdown",
   "metadata": {
    "id": "hJSYhcVaoJGt"
   },
   "source": [
    "Though simple to understand, implement, and debug, one\n",
    "major problem with the Naive Bayes classifier is that its performance\n",
    "deteriorates (becomes skewed) when it is being used with features which\n",
    "are not independent (i.e., are correlated). Another popular classifier\n",
    "that doesn’t scale as well to big data, and is not as simple to debug as\n",
    "Naive Bayes, but that doesn’t assume feature independence is the Support\n",
    "Vector Machine (SVM) classifier.\n",
    "\n",
    "You can find more details about SVMs in Chapter 7 of Bishop: Pattern Recognition and Machine Learning.\n",
    "Other sources for learning SVM:\n",
    "* http://web.mit.edu/zoya/www/SVM.pdf\n",
    "* http://www.cs.columbia.edu/~kathy/cs4701/documents/jason_svm_tutorial.pdf\n",
    "* https://pythonprogramming.net/support-vector-machine-intro-machine-learning-tutorial/\n",
    "\n",
    "\n",
    "\n",
    "\n",
    "\n",
    "\n",
    "\n",
    "Use the scikit-learn implementation of\n",
    "[SVM](http://scikit-learn.org/stable/modules/svm.html) with the default parameters. (You are not expected to perform any hyperparameter tuning, but feel free to do it if you think it gives you good insights for the discussion in question 5.)\n",
    "\n"
   ]
  },
  {
   "cell_type": "markdown",
   "metadata": {
    "id": "0LnzNtQBV8gr"
   },
   "source": [
    "#### (Q3.1): Train SVM and compare to Naive Bayes (2pts)\n",
    "\n",
    "Train an SVM classifier (sklearn.svm.LinearSVC) using the features collected for Naive Bayes. Compare the\n",
    "classification performance of the SVM classifier to that of the Naive\n",
    "Bayes classifier with smoothing.\n",
    "Use cross-validation to evaluate the performance of the classifiers.\n",
    "\n"
   ]
  },
  {
   "cell_type": "code",
   "execution_count": 112,
   "metadata": {},
   "outputs": [],
   "source": [
    "from sklearn.feature_extraction.text import CountVectorizer\n",
    "from sklearn.svm import LinearSVC"
   ]
  },
  {
   "cell_type": "code",
   "execution_count": 113,
   "metadata": {},
   "outputs": [],
   "source": [
    "s1, s2, s3, s4, s5, s6, s7, s8, s9, s10 = round_robin_splitting(reviews)"
   ]
  },
  {
   "cell_type": "code",
   "execution_count": 114,
   "metadata": {
    "id": "JBscui8Mvoz0"
   },
   "outputs": [],
   "source": [
    "# YOUR CODE HERE\n",
    "\n",
    "def SVM_on_split(testsplit, trainsplits):\n",
    "\n",
    "    train_reviews = []\n",
    "    train_sentiments = []\n",
    "    test_reviews = []\n",
    "    test_sentiments = []\n",
    "\n",
    "    for i in range(len(testsplit)):\n",
    "        test_reviews.append(testsplit[i][1])\n",
    "        test_sentiments.append(testsplit[i][0])\n",
    "\n",
    "    for split in trainsplits:\n",
    "        for i in range(len(split)):\n",
    "            train_reviews.append(split[i][1])\n",
    "            train_sentiments.append(split[i][0])\n",
    "\n",
    "    predictions = SVM(train_reviews, train_sentiments, test_reviews, test_sentiments)\n",
    "    results, accuracy = accuracy_report(test_sentiments, predictions)\n",
    "\n",
    "    return results, accuracy\n",
    "\n",
    "    \n",
    "def SVM(train_reviews, train_sentiments, test_reviews, test_sentiments):\n",
    "    vocabulary = set()\n",
    "\n",
    "    for review_word_list in train_reviews:\n",
    "        vocabulary.update(review_word_list)\n",
    "\n",
    "    vocabulary = sorted(list(vocabulary))\n",
    "\n",
    "    # Using the vocabulary already retrieved for NB to create the vectorizer\n",
    "    vectorizer = CountVectorizer(vocabulary=vocabulary) \n",
    "\n",
    "    # Turn word lists into sentence lists for the input of vectorizer\n",
    "    train_reviews_in_sentence = [' '.join(review) for review in train_reviews]\n",
    "\n",
    "    # Turning sentence lists into a feature matrix\n",
    "    train_review_matrix = vectorizer.fit_transform(train_reviews_in_sentence)\n",
    "\n",
    "    # Training\n",
    "    svm_clf = LinearSVC(max_iter=9000)\n",
    "    svm_clf.fit(train_review_matrix, train_sentiments)\n",
    "\n",
    "    test_reviews_in_sentence = [' '.join(review) for review in test_reviews]\n",
    "    test_review_matrix = vectorizer.transform(test_reviews_in_sentence)\n",
    "\n",
    "    predictions = svm_clf.predict(test_review_matrix)\n",
    "\n",
    "    return predictions\n",
    "    # add prediction part on test data\n"
   ]
  },
  {
   "cell_type": "code",
   "execution_count": 115,
   "metadata": {},
   "outputs": [],
   "source": [
    "def calc_cross_val_score_SVM():\n",
    "    total_accuracy = []\n",
    "\n",
    "    results_s1, accuracy_s1 = SVM_on_split(s1, [s2, s3, s4, s5, s6, s7, s8, s9, s10])\n",
    "    print(f\"Accuracy split 1: {accuracy_s1}%\")\n",
    "    total_accuracy.append(accuracy_s1)\n",
    "\n",
    "    results_s2, accuracy_s2 = SVM_on_split(s2, [s1, s3, s4, s5, s6, s7, s8, s9, s10])\n",
    "    print(f\"Accuracy split 2: {accuracy_s2}%\")\n",
    "    total_accuracy.append(accuracy_s2)\n",
    "\n",
    "    results_s3, accuracy_s3 = SVM_on_split(s3, [s2, s1, s4, s5, s6, s7, s8, s9, s10])\n",
    "    print(f\"Accuracy split 3: {accuracy_s3}%\")\n",
    "    total_accuracy.append(accuracy_s3)\n",
    "\n",
    "    results_s4, accuracy_s4 = SVM_on_split(s4, [s2, s3, s1, s5, s6, s7, s8, s9, s10])\n",
    "    print(f\"Accuracy split 4: {accuracy_s4}%\")\n",
    "    total_accuracy.append(accuracy_s4)\n",
    "\n",
    "    results_s5, accuracy_s5 = SVM_on_split(s5, [s2, s3, s4, s1, s6, s7, s8, s9, s10])\n",
    "    print(f\"Accuracy split 5: {accuracy_s5}%\")\n",
    "    total_accuracy.append(accuracy_s5)\n",
    "\n",
    "    results_s6, accuracy_s6 = SVM_on_split(s6, [s2, s3, s4, s5, s1, s7, s8, s9, s10])\n",
    "    print(f\"Accuracy split 6: {accuracy_s6}%\")\n",
    "    total_accuracy.append(accuracy_s6)\n",
    "\n",
    "    results_s7, accuracy_s7 = SVM_on_split(s7, [s2, s3, s4, s5, s6, s1, s8, s9, s10])\n",
    "    print(f\"Accuracy split 7: {accuracy_s7}%\")\n",
    "    total_accuracy.append(accuracy_s7)\n",
    "\n",
    "    results_s8, accuracy_s8 = SVM_on_split(s8, [s2, s3, s4, s5, s6, s7, s1, s9, s10])\n",
    "    print(f\"Accuracy split 8: {accuracy_s8}%\")\n",
    "    total_accuracy.append(accuracy_s8)\n",
    "\n",
    "    results_s9, accuracy_s9 = SVM_on_split(s9, [s2, s3, s4, s5, s6, s7, s8, s1, s10])\n",
    "    print(f\"Accuracy split 9: {accuracy_s9}%\")\n",
    "    total_accuracy.append(accuracy_s9)\n",
    "\n",
    "    results_s10, accuracy_s10 = SVM_on_split(s10, [s2, s3, s4, s5, s6, s7, s8, s9, s1])\n",
    "    print(f\"Accuracy split 10: {accuracy_s10}%\")\n",
    "    total_accuracy.append(accuracy_s10)\n",
    "\n",
    "    return total_accuracy"
   ]
  },
  {
   "cell_type": "code",
   "execution_count": 116,
   "metadata": {},
   "outputs": [
    {
     "name": "stderr",
     "output_type": "stream",
     "text": [
      "F:\\anaconda\\Lib\\site-packages\\sklearn\\svm\\_classes.py:32: FutureWarning: The default value of `dual` will change from `True` to `'auto'` in 1.5. Set the value of `dual` explicitly to suppress the warning.\n",
      "  warnings.warn(\n"
     ]
    },
    {
     "name": "stdout",
     "output_type": "stream",
     "text": [
      "Accuracy split 1: 81.0%\n"
     ]
    },
    {
     "name": "stderr",
     "output_type": "stream",
     "text": [
      "F:\\anaconda\\Lib\\site-packages\\sklearn\\svm\\_classes.py:32: FutureWarning: The default value of `dual` will change from `True` to `'auto'` in 1.5. Set the value of `dual` explicitly to suppress the warning.\n",
      "  warnings.warn(\n"
     ]
    },
    {
     "name": "stdout",
     "output_type": "stream",
     "text": [
      "Accuracy split 2: 83.5%\n"
     ]
    },
    {
     "name": "stderr",
     "output_type": "stream",
     "text": [
      "F:\\anaconda\\Lib\\site-packages\\sklearn\\svm\\_classes.py:32: FutureWarning: The default value of `dual` will change from `True` to `'auto'` in 1.5. Set the value of `dual` explicitly to suppress the warning.\n",
      "  warnings.warn(\n"
     ]
    },
    {
     "name": "stdout",
     "output_type": "stream",
     "text": [
      "Accuracy split 3: 79.5%\n"
     ]
    },
    {
     "name": "stderr",
     "output_type": "stream",
     "text": [
      "F:\\anaconda\\Lib\\site-packages\\sklearn\\svm\\_classes.py:32: FutureWarning: The default value of `dual` will change from `True` to `'auto'` in 1.5. Set the value of `dual` explicitly to suppress the warning.\n",
      "  warnings.warn(\n"
     ]
    },
    {
     "name": "stdout",
     "output_type": "stream",
     "text": [
      "Accuracy split 4: 87.0%\n"
     ]
    },
    {
     "name": "stderr",
     "output_type": "stream",
     "text": [
      "F:\\anaconda\\Lib\\site-packages\\sklearn\\svm\\_classes.py:32: FutureWarning: The default value of `dual` will change from `True` to `'auto'` in 1.5. Set the value of `dual` explicitly to suppress the warning.\n",
      "  warnings.warn(\n"
     ]
    },
    {
     "name": "stdout",
     "output_type": "stream",
     "text": [
      "Accuracy split 5: 84.0%\n"
     ]
    },
    {
     "name": "stderr",
     "output_type": "stream",
     "text": [
      "F:\\anaconda\\Lib\\site-packages\\sklearn\\svm\\_classes.py:32: FutureWarning: The default value of `dual` will change from `True` to `'auto'` in 1.5. Set the value of `dual` explicitly to suppress the warning.\n",
      "  warnings.warn(\n"
     ]
    },
    {
     "name": "stdout",
     "output_type": "stream",
     "text": [
      "Accuracy split 6: 80.0%\n"
     ]
    },
    {
     "name": "stderr",
     "output_type": "stream",
     "text": [
      "F:\\anaconda\\Lib\\site-packages\\sklearn\\svm\\_classes.py:32: FutureWarning: The default value of `dual` will change from `True` to `'auto'` in 1.5. Set the value of `dual` explicitly to suppress the warning.\n",
      "  warnings.warn(\n"
     ]
    },
    {
     "name": "stdout",
     "output_type": "stream",
     "text": [
      "Accuracy split 7: 86.5%\n"
     ]
    },
    {
     "name": "stderr",
     "output_type": "stream",
     "text": [
      "F:\\anaconda\\Lib\\site-packages\\sklearn\\svm\\_classes.py:32: FutureWarning: The default value of `dual` will change from `True` to `'auto'` in 1.5. Set the value of `dual` explicitly to suppress the warning.\n",
      "  warnings.warn(\n"
     ]
    },
    {
     "name": "stdout",
     "output_type": "stream",
     "text": [
      "Accuracy split 8: 83.0%\n"
     ]
    },
    {
     "name": "stderr",
     "output_type": "stream",
     "text": [
      "F:\\anaconda\\Lib\\site-packages\\sklearn\\svm\\_classes.py:32: FutureWarning: The default value of `dual` will change from `True` to `'auto'` in 1.5. Set the value of `dual` explicitly to suppress the warning.\n",
      "  warnings.warn(\n"
     ]
    },
    {
     "name": "stdout",
     "output_type": "stream",
     "text": [
      "Accuracy split 9: 88.0%\n"
     ]
    },
    {
     "name": "stderr",
     "output_type": "stream",
     "text": [
      "F:\\anaconda\\Lib\\site-packages\\sklearn\\svm\\_classes.py:32: FutureWarning: The default value of `dual` will change from `True` to `'auto'` in 1.5. Set the value of `dual` explicitly to suppress the warning.\n",
      "  warnings.warn(\n"
     ]
    },
    {
     "name": "stdout",
     "output_type": "stream",
     "text": [
      "Accuracy split 10: 83.0%\n",
      "Accuracy total: 83.55%\n",
      "The variance of 10-fold accuracies:7.669999999999999\n"
     ]
    }
   ],
   "source": [
    "total_accuracy = calc_cross_val_score_SVM()\n",
    "\n",
    "mean_accuracy = sum(total_accuracy)/len(total_accuracy)\n",
    "print(f\"Accuracy total: {mean_accuracy}%\")\n",
    "\n",
    "svm_variance = sum(round(((accuracy - mean_accuracy) ** 2),2) for accuracy in total_accuracy) / len(total_accuracy)\n",
    "print(f\"The variance of 10-fold accuracies:{svm_variance}\")\n",
    "\n",
    "for i in total_accuracy:\n",
    "    list_row = [\"SVM\", i]\n",
    "    df_accuracies.loc[len(df_accuracies)] = list_row"
   ]
  },
  {
   "cell_type": "markdown",
   "metadata": {},
   "source": [
    "Recall the performance of smoothed NB classifiers in the 10-fold validation:\n",
    "\n",
    "Accuracy total: 81.4%\n",
    "\n",
    "Variance is 4.589999999999999\n",
    "\n",
    "Comparatively, the average accuracy of the SVM classifiers in the 10-fold validation is slightly higher than that of smoothed NB classifiers. Additionally, the variance of accuracies of SVM classifiers is a little bigger than that of smoothed NB classifiers, showing a less stable accuracy performance."
   ]
  },
  {
   "cell_type": "markdown",
   "metadata": {
    "id": "ifXVWcK0V9qY"
   },
   "source": [
    "### POS disambiguation (2pts)\n",
    "\n",
    "Now add in part-of-speech features. You will find the\n",
    "movie review dataset has already been POS-tagged for you ([here](https://catalog.ldc.upenn.edu/docs/LDC99T42/tagguid1.pdf) you find the tagset). Try to\n",
    "replicate the results obtained by Pang et al. (2002).\n",
    "\n"
   ]
  },
  {
   "cell_type": "markdown",
   "metadata": {
    "id": "xA3I82o4oWGu"
   },
   "source": [
    "####(Q3.2) Replace your features with word+POS features, and report performance with the SVM. Use cross-validation to evaluate the classifier and compare the results with (Q3.1). Does part-of-speech information help? Explain why this may be the case. (1pt)\n"
   ]
  },
  {
   "cell_type": "code",
   "execution_count": 120,
   "metadata": {},
   "outputs": [
    {
     "name": "stderr",
     "output_type": "stream",
     "text": [
      "F:\\anaconda\\Lib\\site-packages\\sklearn\\svm\\_classes.py:32: FutureWarning: The default value of `dual` will change from `True` to `'auto'` in 1.5. Set the value of `dual` explicitly to suppress the warning.\n",
      "  warnings.warn(\n"
     ]
    },
    {
     "name": "stdout",
     "output_type": "stream",
     "text": [
      "Accuracy split 1: 81.5%\n"
     ]
    },
    {
     "name": "stderr",
     "output_type": "stream",
     "text": [
      "F:\\anaconda\\Lib\\site-packages\\sklearn\\svm\\_classes.py:32: FutureWarning: The default value of `dual` will change from `True` to `'auto'` in 1.5. Set the value of `dual` explicitly to suppress the warning.\n",
      "  warnings.warn(\n"
     ]
    },
    {
     "name": "stdout",
     "output_type": "stream",
     "text": [
      "Accuracy split 2: 81.5%\n"
     ]
    },
    {
     "name": "stderr",
     "output_type": "stream",
     "text": [
      "F:\\anaconda\\Lib\\site-packages\\sklearn\\svm\\_classes.py:32: FutureWarning: The default value of `dual` will change from `True` to `'auto'` in 1.5. Set the value of `dual` explicitly to suppress the warning.\n",
      "  warnings.warn(\n"
     ]
    },
    {
     "name": "stdout",
     "output_type": "stream",
     "text": [
      "Accuracy split 3: 83.0%\n"
     ]
    },
    {
     "name": "stderr",
     "output_type": "stream",
     "text": [
      "F:\\anaconda\\Lib\\site-packages\\sklearn\\svm\\_classes.py:32: FutureWarning: The default value of `dual` will change from `True` to `'auto'` in 1.5. Set the value of `dual` explicitly to suppress the warning.\n",
      "  warnings.warn(\n"
     ]
    },
    {
     "name": "stdout",
     "output_type": "stream",
     "text": [
      "Accuracy split 4: 86.0%\n"
     ]
    },
    {
     "name": "stderr",
     "output_type": "stream",
     "text": [
      "F:\\anaconda\\Lib\\site-packages\\sklearn\\svm\\_classes.py:32: FutureWarning: The default value of `dual` will change from `True` to `'auto'` in 1.5. Set the value of `dual` explicitly to suppress the warning.\n",
      "  warnings.warn(\n"
     ]
    },
    {
     "name": "stdout",
     "output_type": "stream",
     "text": [
      "Accuracy split 5: 82.0%\n"
     ]
    },
    {
     "name": "stderr",
     "output_type": "stream",
     "text": [
      "F:\\anaconda\\Lib\\site-packages\\sklearn\\svm\\_classes.py:32: FutureWarning: The default value of `dual` will change from `True` to `'auto'` in 1.5. Set the value of `dual` explicitly to suppress the warning.\n",
      "  warnings.warn(\n"
     ]
    },
    {
     "name": "stdout",
     "output_type": "stream",
     "text": [
      "Accuracy split 6: 82.5%\n"
     ]
    },
    {
     "name": "stderr",
     "output_type": "stream",
     "text": [
      "F:\\anaconda\\Lib\\site-packages\\sklearn\\svm\\_classes.py:32: FutureWarning: The default value of `dual` will change from `True` to `'auto'` in 1.5. Set the value of `dual` explicitly to suppress the warning.\n",
      "  warnings.warn(\n"
     ]
    },
    {
     "name": "stdout",
     "output_type": "stream",
     "text": [
      "Accuracy split 7: 87.0%\n"
     ]
    },
    {
     "name": "stderr",
     "output_type": "stream",
     "text": [
      "F:\\anaconda\\Lib\\site-packages\\sklearn\\svm\\_classes.py:32: FutureWarning: The default value of `dual` will change from `True` to `'auto'` in 1.5. Set the value of `dual` explicitly to suppress the warning.\n",
      "  warnings.warn(\n"
     ]
    },
    {
     "name": "stdout",
     "output_type": "stream",
     "text": [
      "Accuracy split 8: 85.0%\n"
     ]
    },
    {
     "name": "stderr",
     "output_type": "stream",
     "text": [
      "F:\\anaconda\\Lib\\site-packages\\sklearn\\svm\\_classes.py:32: FutureWarning: The default value of `dual` will change from `True` to `'auto'` in 1.5. Set the value of `dual` explicitly to suppress the warning.\n",
      "  warnings.warn(\n"
     ]
    },
    {
     "name": "stdout",
     "output_type": "stream",
     "text": [
      "Accuracy split 9: 84.5%\n"
     ]
    },
    {
     "name": "stderr",
     "output_type": "stream",
     "text": [
      "F:\\anaconda\\Lib\\site-packages\\sklearn\\svm\\_classes.py:32: FutureWarning: The default value of `dual` will change from `True` to `'auto'` in 1.5. Set the value of `dual` explicitly to suppress the warning.\n",
      "  warnings.warn(\n"
     ]
    },
    {
     "name": "stdout",
     "output_type": "stream",
     "text": [
      "Accuracy split 10: 82.5%\n",
      "Accuracy total: 83.55%\n",
      "The variance of 10-fold accuracies:3.4200000000000004\n"
     ]
    }
   ],
   "source": [
    "# By adjusting this function we will add the pos to the data\n",
    "\n",
    "def unit_word_list(unit_sentence_list, unit_sentiment):\n",
    "    unit_word_list = []\n",
    "            \n",
    "    for sentence_word_list in unit_sentence_list:\n",
    "        for word, pos in sentence_word_list:\n",
    "            if re.search(r'[A-Za-z]', word):\n",
    "                unit_word_list.append(word.lower() + pos.lower())\n",
    "\n",
    "    return unit_sentiment, unit_word_list\n",
    "\n",
    "# then we run this again\n",
    "s1, s2, s3, s4, s5, s6, s7, s8, s9, s10 = round_robin_splitting(reviews)\n",
    "\n",
    "total_accuracy = calc_cross_val_score_SVM()\n",
    "\n",
    "mean_accuracy = sum(total_accuracy)/len(total_accuracy)\n",
    "print(f\"Accuracy total: {mean_accuracy}%\")\n",
    "\n",
    "svm_variance = sum(round(((accuracy - mean_accuracy) ** 2),2) for accuracy in total_accuracy) / len(total_accuracy)\n",
    "print(f\"The variance of 10-fold accuracies:{svm_variance}\")\n",
    "\n",
    "for i in total_accuracy:\n",
    "    list_row = [\"SVM POS\", i]\n",
    "    df_accuracies.loc[len(df_accuracies)] = list_row"
   ]
  },
  {
   "cell_type": "markdown",
   "metadata": {
    "id": "L0dt_oQupUNe"
   },
   "source": [
    "Adding POS-data results in a similar accuracy but with a smaller variance in comparison to using just the text data, revealing a more stable performance around the mean accuracy. By observing split performance we indeed see that unlike using just text features, no split accuracy is below 80% when we add PoS features, showing a slight improvement. This might be the case because now words with multiple POS-tags can be disambiguated. For example, the proper noun \"Nice\" as a city should not have a big impact on the sentiment, while the adjective \"nice\" does. This kind of differences can only be detected when PoS tags are introduced as features. Furthermore, the system can in general focus more on adjectives/adverbs that are more sensitive to sentiment and emotional expressions, so that it is more prone to say something about the sentiment and thus in a way making the data more useful."
   ]
  },
  {
   "cell_type": "markdown",
   "metadata": {
    "id": "Su-3w87eMW0w"
   },
   "source": [
    "#### (Q3.3) Discard all closed-class words from your data (keep only nouns, verbs, adjectives, and adverbs), and report performance. Does this help? Use cross-validation to evaluate the classifier and compare the results with (Q3.2). Are closed-class words detrimental to the classifier? Explain why this may be the case. (1pt)"
   ]
  },
  {
   "cell_type": "code",
   "execution_count": 123,
   "metadata": {
    "id": "CCUPlPozCYUX"
   },
   "outputs": [
    {
     "name": "stderr",
     "output_type": "stream",
     "text": [
      "F:\\anaconda\\Lib\\site-packages\\sklearn\\svm\\_classes.py:32: FutureWarning: The default value of `dual` will change from `True` to `'auto'` in 1.5. Set the value of `dual` explicitly to suppress the warning.\n",
      "  warnings.warn(\n"
     ]
    },
    {
     "name": "stdout",
     "output_type": "stream",
     "text": [
      "Accuracy split 1: 82.0%\n"
     ]
    },
    {
     "name": "stderr",
     "output_type": "stream",
     "text": [
      "F:\\anaconda\\Lib\\site-packages\\sklearn\\svm\\_classes.py:32: FutureWarning: The default value of `dual` will change from `True` to `'auto'` in 1.5. Set the value of `dual` explicitly to suppress the warning.\n",
      "  warnings.warn(\n"
     ]
    },
    {
     "name": "stdout",
     "output_type": "stream",
     "text": [
      "Accuracy split 2: 80.5%\n"
     ]
    },
    {
     "name": "stderr",
     "output_type": "stream",
     "text": [
      "F:\\anaconda\\Lib\\site-packages\\sklearn\\svm\\_classes.py:32: FutureWarning: The default value of `dual` will change from `True` to `'auto'` in 1.5. Set the value of `dual` explicitly to suppress the warning.\n",
      "  warnings.warn(\n"
     ]
    },
    {
     "name": "stdout",
     "output_type": "stream",
     "text": [
      "Accuracy split 3: 81.0%\n"
     ]
    },
    {
     "name": "stderr",
     "output_type": "stream",
     "text": [
      "F:\\anaconda\\Lib\\site-packages\\sklearn\\svm\\_classes.py:32: FutureWarning: The default value of `dual` will change from `True` to `'auto'` in 1.5. Set the value of `dual` explicitly to suppress the warning.\n",
      "  warnings.warn(\n"
     ]
    },
    {
     "name": "stdout",
     "output_type": "stream",
     "text": [
      "Accuracy split 4: 85.0%\n"
     ]
    },
    {
     "name": "stderr",
     "output_type": "stream",
     "text": [
      "F:\\anaconda\\Lib\\site-packages\\sklearn\\svm\\_classes.py:32: FutureWarning: The default value of `dual` will change from `True` to `'auto'` in 1.5. Set the value of `dual` explicitly to suppress the warning.\n",
      "  warnings.warn(\n"
     ]
    },
    {
     "name": "stdout",
     "output_type": "stream",
     "text": [
      "Accuracy split 5: 82.0%\n"
     ]
    },
    {
     "name": "stderr",
     "output_type": "stream",
     "text": [
      "F:\\anaconda\\Lib\\site-packages\\sklearn\\svm\\_classes.py:32: FutureWarning: The default value of `dual` will change from `True` to `'auto'` in 1.5. Set the value of `dual` explicitly to suppress the warning.\n",
      "  warnings.warn(\n"
     ]
    },
    {
     "name": "stdout",
     "output_type": "stream",
     "text": [
      "Accuracy split 6: 82.5%\n"
     ]
    },
    {
     "name": "stderr",
     "output_type": "stream",
     "text": [
      "F:\\anaconda\\Lib\\site-packages\\sklearn\\svm\\_classes.py:32: FutureWarning: The default value of `dual` will change from `True` to `'auto'` in 1.5. Set the value of `dual` explicitly to suppress the warning.\n",
      "  warnings.warn(\n"
     ]
    },
    {
     "name": "stdout",
     "output_type": "stream",
     "text": [
      "Accuracy split 7: 87.0%\n"
     ]
    },
    {
     "name": "stderr",
     "output_type": "stream",
     "text": [
      "F:\\anaconda\\Lib\\site-packages\\sklearn\\svm\\_classes.py:32: FutureWarning: The default value of `dual` will change from `True` to `'auto'` in 1.5. Set the value of `dual` explicitly to suppress the warning.\n",
      "  warnings.warn(\n"
     ]
    },
    {
     "name": "stdout",
     "output_type": "stream",
     "text": [
      "Accuracy split 8: 87.5%\n"
     ]
    },
    {
     "name": "stderr",
     "output_type": "stream",
     "text": [
      "F:\\anaconda\\Lib\\site-packages\\sklearn\\svm\\_classes.py:32: FutureWarning: The default value of `dual` will change from `True` to `'auto'` in 1.5. Set the value of `dual` explicitly to suppress the warning.\n",
      "  warnings.warn(\n"
     ]
    },
    {
     "name": "stdout",
     "output_type": "stream",
     "text": [
      "Accuracy split 9: 86.0%\n"
     ]
    },
    {
     "name": "stderr",
     "output_type": "stream",
     "text": [
      "F:\\anaconda\\Lib\\site-packages\\sklearn\\svm\\_classes.py:32: FutureWarning: The default value of `dual` will change from `True` to `'auto'` in 1.5. Set the value of `dual` explicitly to suppress the warning.\n",
      "  warnings.warn(\n"
     ]
    },
    {
     "name": "stdout",
     "output_type": "stream",
     "text": [
      "Accuracy split 10: 85.0%\n",
      "Accuracy total: 83.85%\n",
      "The variance of 10-fold accuracies:5.85\n"
     ]
    }
   ],
   "source": [
    "# YOUR CODE HERE\n",
    "pos_tags = [\"RB\", \"VB\", \"NN\", \"JJ\"]\n",
    "\n",
    "# By adjusting this function we will add the pos to the data\n",
    "\n",
    "def unit_word_list(unit_sentence_list, unit_sentiment):\n",
    "    unit_word_list = []\n",
    "            \n",
    "    for sentence_word_list in unit_sentence_list:\n",
    "        for word, pos in sentence_word_list:\n",
    "            if re.search(r'[A-Za-z]', word):\n",
    "                unit_word_list.append(word.lower() + pos.lower())\n",
    "                for tag in pos_tags:\n",
    "                        if tag in pos:\n",
    "                            unit_word_list.append(word.lower() + pos.lower())\n",
    "\n",
    "    return unit_sentiment, unit_word_list\n",
    "\n",
    "\n",
    "# then we run this again\n",
    "s1, s2, s3, s4, s5, s6, s7, s8, s9, s10 = round_robin_splitting(reviews)\n",
    "\n",
    "total_accuracy = calc_cross_val_score_SVM()\n",
    "\n",
    "mean_accuracy = sum(total_accuracy)/len(total_accuracy)\n",
    "print(f\"Accuracy total: {mean_accuracy}%\")\n",
    "svm_variance = sum(round(((accuracy - mean_accuracy) ** 2),2) for accuracy in total_accuracy) / len(total_accuracy)\n",
    "print(f\"The variance of 10-fold accuracies:{svm_variance}\")\n",
    "\n",
    "for i in total_accuracy:\n",
    "    list_row = [\"SVM no closed class\", i]\n",
    "    df_accuracies.loc[len(df_accuracies)] = list_row"
   ]
  },
  {
   "cell_type": "markdown",
   "metadata": {
    "id": "YaxCVrs8pWSp"
   },
   "source": [
    "Discarding closed-class words from the data did increase the accuracy slightly. This is probably because closed-class functional words are not really useful features for the current sentiment analysis task, thus removing them from the data may help to reduce noises and help the system to focus on more important features and learn more useful patterns."
   ]
  },
  {
   "cell_type": "code",
   "execution_count": 125,
   "metadata": {},
   "outputs": [
    {
     "data": {
      "image/png": "[encoded data removed]",
      "text/plain": [
       "<Figure size 640x480 with 1 Axes>"
      ]
     },
     "metadata": {},
     "output_type": "display_data"
    }
   ],
   "source": [
    "fig = sns.boxplot(data= df_accuracies, y=\"accuracy\", x=\"model\", hue=\"model\",showmeans=True, meanprops={'marker':'o', 'markerfacecolor' : \"black\", 'markeredgecolor' : \"black\"})\n",
    "plt.xticks(rotation=90)\n",
    "plt.tight_layout()\n",
    "plt.show()"
   ]
  },
  {
   "cell_type": "code",
   "execution_count": 205,
   "metadata": {},
   "outputs": [
    {
     "data": {
      "image/png": "[encoded data removed]",
      "text/plain": [
       "<Figure size 640x480 with 1 Axes>"
      ]
     },
     "metadata": {},
     "output_type": "display_data"
    }
   ],
   "source": [
    "df_accuracies2 = df_accuracies[df_accuracies.model != \"Basic Naive Bayes\"]\n",
    "fig = sns.boxplot(data= df_accuracies2, y=\"accuracy\", x=\"model\", hue=\"model\", showmeans=True, meanprops={'marker':'o', 'markerfacecolor' : \"black\", 'markeredgecolor' : \"black\"} )\n",
    "plt.xticks(rotation=90)\n",
    "plt.tight_layout()\n",
    "plt.show()"
   ]
  },
  {
   "cell_type": "markdown",
   "metadata": {
    "id": "nfwqOciAl2No"
   },
   "source": [
    "# (4) Discussion (max. 500 words). (5pts)\n",
    "\n",
    "> Based on your experiments, what are the effective features and techniques in sentiment analysis? What information do different features encode?\n",
    "Why is this important? What are the limitations of these features and techniques?\n",
    "\n"
   ]
  },
  {
   "cell_type": "markdown",
   "metadata": {
    "id": "ZYuse5WLmekZ"
   },
   "source": [
    "## Techniques\n",
    "From our different experiments, we can conclude that among the three different techniques (the lexicon-based approach, Naive Bayes, and Support Vector Machines), the SVMs obtained the highest average accuracy (around 83%). In contrast, the Lexicon-based approach performed the worst, with a 68.85% accuracy at best (with magnitude measures).\n",
    "\n",
    "The boxplots above show results for different implementations of the Naive Bayes and SVMs using various techniques and features based on 10-fold cross-validations. The lines in the boxplots show the median, and the boxes themselves show the range of accuracies over the different splits. The black dot represents the mean accuracy. \n",
    "\n",
    "*Laplace smoothing*\n",
    "The basic Naive Bayes classifier without smoothing resulted in an unsatisfactory accuracy below 50%, as it has no proper way of dealing with words it has never seen, causing difficulties in deciding class. Comparatively, the implementation with Laplace smoothing technique showed more promising results: the average accuracy reached around 82%. We should note that assignment 2.3 showed us that it is important to use a balanced dataset when using this technique as an unbalanced dataset decreased the accuracy dramatically. \n",
    "\n",
    "### Naive Bayes Features\n",
    "We manipulated several features when training our Naive Bayes Classifiers.\n",
    "\n",
    "Firstly, stemming did not cause much of an improvement accuracy-wise. While stemming helped with the dimension reduction for feature vectors, making vectors less sparse so that the system can focus on important features, it may also disregard specific features (i.e. specific word forms) that may be loaded with patterns important for sentiment analysis.\n",
    "\n",
    "Including bigrams as features did improve the accuracy slightly. Adding bigrams (and trigrams) includes structural information as features, so we are better equipped to deal with direct negations (e.g. *not funny*). However, it does also increase the extent of data sparsity, for instance, there are more unique trigrams in a text than unique bigrams. This might explain why using unigrams+bigrams as features obtained a higher accuracy than using unigrams+bigrams+trigrams.\n",
    "\n",
    "### SVM features\n",
    "\n",
    "The basic SVM classifier trained with only words as features achieved an average accuracy of 83.55%, with a relatively big variance and a fold with an accuracy lower than 80%.\n",
    "\n",
    "Encoding PoS information together with words as features helps to differentiate various semantic functions of the same word form. The system can then grasp patterns by focusing on subsets of word tokens that are really helpful for sentiment analysis. This resulted in a similar accuracy of 83.55%, but the variance is smaller and every fold's accuracy reaches above 80%.\n",
    "\n",
    "Removing closed-class words also helps to improve the average accuracy slightly, as it can deduct feature dimensions that are not necessary for sentiment analysis.\n",
    "\n",
    "## Limitations\n",
    "First of all, the lexicon-based approach heavily depends on the sentiment lexicon used (quality and exhaustiveness). Furthermore, Naive Bayes and SVM (with count vectors as input) both suffer from data sparsity problems and are not good at dealing with unseen words. Using n-grams as features further expands the feature dimension while not all features added would be useful for the task, and the same problem exists for involving PoS information in features. Stemming and removing certain words, on the other hand, bring a tradeoff between reducing feature dimension and retaining information.\n",
    "\n",
    "\n"
   ]
  },
  {
   "cell_type": "markdown",
   "metadata": {
    "id": "iwaKwfWQhRk_"
   },
   "source": [
    "# Submission\n"
   ]
  },
  {
   "cell_type": "code",
   "execution_count": 130,
   "metadata": {
    "id": "aOUeaET5ijk-"
   },
   "outputs": [],
   "source": [
    "# Write your names and student numbers here:\n",
    "# Yunchong Huang #14775875\n",
    "# Francijn Keur #13133152"
   ]
  },
  {
   "cell_type": "markdown",
   "metadata": {
    "id": "3A9K-H6Tii3X"
   },
   "source": [
    "**That's it!**\n",
    "\n",
    "- Check if you answered all questions fully and correctly.\n",
    "- Download your completed notebook using `File -> Download .ipynb`\n",
    "- Check if your answers are all included in the file you submit.\n",
    "- Submit your .ipynb file via *Canvas*. One submission per group."
   ]
  },
  {
   "cell_type": "code",
   "execution_count": null,
   "metadata": {
    "id": "YHslatYAKBrF"
   },
   "outputs": [],
   "source": []
  }
 ],
 "metadata": {
  "colab": {
   "provenance": []
  },
  "kernelspec": {
   "display_name": "Python 3 (ipykernel)",
   "language": "python",
   "name": "python3"
  },
  "language_info": {
   "codemirror_mode": {
    "name": "ipython",
    "version": 3
   },
   "file_extension": ".py",
   "mimetype": "text/x-python",
   "name": "python",
   "nbconvert_exporter": "python",
   "pygments_lexer": "ipython3",
   "version": "3.11.5"
  }
 },
 "nbformat": 4,
 "nbformat_minor": 4
}
